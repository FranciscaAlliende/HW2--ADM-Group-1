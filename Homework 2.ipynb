{
 "cells": [
  {
   "cell_type": "markdown",
   "metadata": {},
   "source": [
    "## Homework 2 - Group 1\n",
    "### Francisca Alliende & Yousef Abbar"
   ]
  },
  {
   "cell_type": "markdown",
   "metadata": {},
   "source": [
    "#### Cleaning the Database"
   ]
  },
  {
   "cell_type": "markdown",
   "metadata": {},
   "source": [
    "This section does not answer directly to any question, but has the objective of preparing the databases for the subsequent exercises.\n",
    "\n",
    "In the long run we realized that this analysis was more than insufficient, but unfortunately we did not have time to redo it properly. \n",
    "\n",
    "We expose here, what we did for the month of June, repeating the same process for the other months. having as outputs the databases that you will see on the further exercises called: [01jan.csv, 02feb.csv,...,06jun.csv]"
   ]
  },
  {
   "cell_type": "code",
   "execution_count": 3,
   "metadata": {},
   "outputs": [],
   "source": [
    "# Import libraries\n",
    "import pandas as pd\n",
    "import matplotlib.pyplot as plt\n",
    "%matplotlib inline\n",
    "import numpy as np"
   ]
  },
  {
   "cell_type": "code",
   "execution_count": 4,
   "metadata": {},
   "outputs": [],
   "source": [
    "# Import the raw data corresponding to the month of June\n",
    "jun = pd.read_csv('yellow_tripdata_2018-06.csv')"
   ]
  },
  {
   "cell_type": "code",
   "execution_count": 6,
   "metadata": {},
   "outputs": [
    {
     "data": {
      "text/html": [
       "<div>\n",
       "<style scoped>\n",
       "    .dataframe tbody tr th:only-of-type {\n",
       "        vertical-align: middle;\n",
       "    }\n",
       "\n",
       "    .dataframe tbody tr th {\n",
       "        vertical-align: top;\n",
       "    }\n",
       "\n",
       "    .dataframe thead th {\n",
       "        text-align: right;\n",
       "    }\n",
       "</style>\n",
       "<table border=\"1\" class=\"dataframe\">\n",
       "  <thead>\n",
       "    <tr style=\"text-align: right;\">\n",
       "      <th></th>\n",
       "      <th>VendorID</th>\n",
       "      <th>passenger_count</th>\n",
       "      <th>trip_distance</th>\n",
       "      <th>RatecodeID</th>\n",
       "      <th>PULocationID</th>\n",
       "      <th>DOLocationID</th>\n",
       "      <th>payment_type</th>\n",
       "      <th>fare_amount</th>\n",
       "      <th>extra</th>\n",
       "      <th>mta_tax</th>\n",
       "      <th>tip_amount</th>\n",
       "      <th>tolls_amount</th>\n",
       "      <th>improvement_surcharge</th>\n",
       "      <th>total_amount</th>\n",
       "    </tr>\n",
       "  </thead>\n",
       "  <tbody>\n",
       "    <tr>\n",
       "      <th>count</th>\n",
       "      <td>8.713831e+06</td>\n",
       "      <td>8.713831e+06</td>\n",
       "      <td>8.713831e+06</td>\n",
       "      <td>8.713831e+06</td>\n",
       "      <td>8.713831e+06</td>\n",
       "      <td>8.713831e+06</td>\n",
       "      <td>8.713831e+06</td>\n",
       "      <td>8.713831e+06</td>\n",
       "      <td>8.713831e+06</td>\n",
       "      <td>8.713831e+06</td>\n",
       "      <td>8.713831e+06</td>\n",
       "      <td>8.713831e+06</td>\n",
       "      <td>8.713831e+06</td>\n",
       "      <td>8.713831e+06</td>\n",
       "    </tr>\n",
       "    <tr>\n",
       "      <th>mean</th>\n",
       "      <td>1.575645e+00</td>\n",
       "      <td>1.597527e+00</td>\n",
       "      <td>3.008475e+00</td>\n",
       "      <td>1.045928e+00</td>\n",
       "      <td>1.624701e+02</td>\n",
       "      <td>1.607770e+02</td>\n",
       "      <td>1.314139e+00</td>\n",
       "      <td>1.325420e+01</td>\n",
       "      <td>3.363939e-01</td>\n",
       "      <td>4.970961e-01</td>\n",
       "      <td>1.906177e+00</td>\n",
       "      <td>3.631078e-01</td>\n",
       "      <td>2.995292e-01</td>\n",
       "      <td>1.666019e+01</td>\n",
       "    </tr>\n",
       "    <tr>\n",
       "      <th>std</th>\n",
       "      <td>4.950090e-01</td>\n",
       "      <td>1.243872e+00</td>\n",
       "      <td>3.858110e+00</td>\n",
       "      <td>5.161131e-01</td>\n",
       "      <td>6.676301e+01</td>\n",
       "      <td>7.046724e+01</td>\n",
       "      <td>4.854247e-01</td>\n",
       "      <td>1.214530e+01</td>\n",
       "      <td>4.658805e-01</td>\n",
       "      <td>4.213728e-02</td>\n",
       "      <td>2.664580e+00</td>\n",
       "      <td>1.807575e+00</td>\n",
       "      <td>1.613463e-02</td>\n",
       "      <td>1.491407e+01</td>\n",
       "    </tr>\n",
       "    <tr>\n",
       "      <th>min</th>\n",
       "      <td>1.000000e+00</td>\n",
       "      <td>0.000000e+00</td>\n",
       "      <td>0.000000e+00</td>\n",
       "      <td>1.000000e+00</td>\n",
       "      <td>1.000000e+00</td>\n",
       "      <td>1.000000e+00</td>\n",
       "      <td>1.000000e+00</td>\n",
       "      <td>-3.000000e+02</td>\n",
       "      <td>-5.000000e+00</td>\n",
       "      <td>-5.000000e-01</td>\n",
       "      <td>-1.000000e+02</td>\n",
       "      <td>-2.702000e+01</td>\n",
       "      <td>-3.000000e-01</td>\n",
       "      <td>-3.332500e+02</td>\n",
       "    </tr>\n",
       "    <tr>\n",
       "      <th>25%</th>\n",
       "      <td>1.000000e+00</td>\n",
       "      <td>1.000000e+00</td>\n",
       "      <td>1.000000e+00</td>\n",
       "      <td>1.000000e+00</td>\n",
       "      <td>1.140000e+02</td>\n",
       "      <td>1.070000e+02</td>\n",
       "      <td>1.000000e+00</td>\n",
       "      <td>6.500000e+00</td>\n",
       "      <td>0.000000e+00</td>\n",
       "      <td>5.000000e-01</td>\n",
       "      <td>0.000000e+00</td>\n",
       "      <td>0.000000e+00</td>\n",
       "      <td>3.000000e-01</td>\n",
       "      <td>8.750000e+00</td>\n",
       "    </tr>\n",
       "    <tr>\n",
       "      <th>50%</th>\n",
       "      <td>2.000000e+00</td>\n",
       "      <td>1.000000e+00</td>\n",
       "      <td>1.660000e+00</td>\n",
       "      <td>1.000000e+00</td>\n",
       "      <td>1.620000e+02</td>\n",
       "      <td>1.620000e+02</td>\n",
       "      <td>1.000000e+00</td>\n",
       "      <td>9.500000e+00</td>\n",
       "      <td>0.000000e+00</td>\n",
       "      <td>5.000000e-01</td>\n",
       "      <td>1.450000e+00</td>\n",
       "      <td>0.000000e+00</td>\n",
       "      <td>3.000000e-01</td>\n",
       "      <td>1.200000e+01</td>\n",
       "    </tr>\n",
       "    <tr>\n",
       "      <th>75%</th>\n",
       "      <td>2.000000e+00</td>\n",
       "      <td>2.000000e+00</td>\n",
       "      <td>3.100000e+00</td>\n",
       "      <td>1.000000e+00</td>\n",
       "      <td>2.330000e+02</td>\n",
       "      <td>2.330000e+02</td>\n",
       "      <td>2.000000e+00</td>\n",
       "      <td>1.500000e+01</td>\n",
       "      <td>5.000000e-01</td>\n",
       "      <td>5.000000e-01</td>\n",
       "      <td>2.460000e+00</td>\n",
       "      <td>0.000000e+00</td>\n",
       "      <td>3.000000e-01</td>\n",
       "      <td>1.830000e+01</td>\n",
       "    </tr>\n",
       "    <tr>\n",
       "      <th>max</th>\n",
       "      <td>4.000000e+00</td>\n",
       "      <td>9.000000e+00</td>\n",
       "      <td>8.331000e+02</td>\n",
       "      <td>9.900000e+01</td>\n",
       "      <td>2.650000e+02</td>\n",
       "      <td>2.650000e+02</td>\n",
       "      <td>4.000000e+00</td>\n",
       "      <td>8.018800e+03</td>\n",
       "      <td>5.300000e+00</td>\n",
       "      <td>6.300000e+00</td>\n",
       "      <td>4.115000e+02</td>\n",
       "      <td>9.105000e+02</td>\n",
       "      <td>1.000000e+00</td>\n",
       "      <td>8.019600e+03</td>\n",
       "    </tr>\n",
       "  </tbody>\n",
       "</table>\n",
       "</div>"
      ],
      "text/plain": [
       "           VendorID  passenger_count  trip_distance    RatecodeID  \\\n",
       "count  8.713831e+06     8.713831e+06   8.713831e+06  8.713831e+06   \n",
       "mean   1.575645e+00     1.597527e+00   3.008475e+00  1.045928e+00   \n",
       "std    4.950090e-01     1.243872e+00   3.858110e+00  5.161131e-01   \n",
       "min    1.000000e+00     0.000000e+00   0.000000e+00  1.000000e+00   \n",
       "25%    1.000000e+00     1.000000e+00   1.000000e+00  1.000000e+00   \n",
       "50%    2.000000e+00     1.000000e+00   1.660000e+00  1.000000e+00   \n",
       "75%    2.000000e+00     2.000000e+00   3.100000e+00  1.000000e+00   \n",
       "max    4.000000e+00     9.000000e+00   8.331000e+02  9.900000e+01   \n",
       "\n",
       "       PULocationID  DOLocationID  payment_type   fare_amount         extra  \\\n",
       "count  8.713831e+06  8.713831e+06  8.713831e+06  8.713831e+06  8.713831e+06   \n",
       "mean   1.624701e+02  1.607770e+02  1.314139e+00  1.325420e+01  3.363939e-01   \n",
       "std    6.676301e+01  7.046724e+01  4.854247e-01  1.214530e+01  4.658805e-01   \n",
       "min    1.000000e+00  1.000000e+00  1.000000e+00 -3.000000e+02 -5.000000e+00   \n",
       "25%    1.140000e+02  1.070000e+02  1.000000e+00  6.500000e+00  0.000000e+00   \n",
       "50%    1.620000e+02  1.620000e+02  1.000000e+00  9.500000e+00  0.000000e+00   \n",
       "75%    2.330000e+02  2.330000e+02  2.000000e+00  1.500000e+01  5.000000e-01   \n",
       "max    2.650000e+02  2.650000e+02  4.000000e+00  8.018800e+03  5.300000e+00   \n",
       "\n",
       "            mta_tax    tip_amount  tolls_amount  improvement_surcharge  \\\n",
       "count  8.713831e+06  8.713831e+06  8.713831e+06           8.713831e+06   \n",
       "mean   4.970961e-01  1.906177e+00  3.631078e-01           2.995292e-01   \n",
       "std    4.213728e-02  2.664580e+00  1.807575e+00           1.613463e-02   \n",
       "min   -5.000000e-01 -1.000000e+02 -2.702000e+01          -3.000000e-01   \n",
       "25%    5.000000e-01  0.000000e+00  0.000000e+00           3.000000e-01   \n",
       "50%    5.000000e-01  1.450000e+00  0.000000e+00           3.000000e-01   \n",
       "75%    5.000000e-01  2.460000e+00  0.000000e+00           3.000000e-01   \n",
       "max    6.300000e+00  4.115000e+02  9.105000e+02           1.000000e+00   \n",
       "\n",
       "       total_amount  \n",
       "count  8.713831e+06  \n",
       "mean   1.666019e+01  \n",
       "std    1.491407e+01  \n",
       "min   -3.332500e+02  \n",
       "25%    8.750000e+00  \n",
       "50%    1.200000e+01  \n",
       "75%    1.830000e+01  \n",
       "max    8.019600e+03  "
      ]
     },
     "execution_count": 6,
     "metadata": {},
     "output_type": "execute_result"
    }
   ],
   "source": [
    "jun.describe()"
   ]
  },
  {
   "cell_type": "code",
   "execution_count": 7,
   "metadata": {},
   "outputs": [],
   "source": [
    "# Delete irrelevant columns\n",
    "drop_columns = ['VendorID', 'RatecodeID', \"extra\", \"mta_tax\", \"tip_amount\", \"tolls_amount\", \"improvement_surcharge\", \"store_and_fwd_flag\"]\n",
    "jun.drop(drop_columns, inplace=True, axis=1)"
   ]
  },
  {
   "cell_type": "code",
   "execution_count": null,
   "metadata": {},
   "outputs": [],
   "source": [
    "# Transform the variable tpep_pickup_datetime and tpep_dropoff_date time in datetime format\n",
    "jun['tpep_pickup_datetime'] = pd.to_datetime(jun['tpep_pickup_datetime'])\n",
    "jun['tpep_dropoff_datetime'] = pd.to_datetime(jun['tpep_dropoff_datetime'])"
   ]
  },
  {
   "cell_type": "code",
   "execution_count": null,
   "metadata": {},
   "outputs": [],
   "source": [
    "# Create the variable Trip Duration and covert it in an integer\n",
    "jun[\"Trip Duration\"] = jun[\"tpep_dropoff_datetime\"] - jun['tpep_pickup_datetime']\n",
    "jun['Trip Duration Sec'] = jun['Trip Duration'].dt.total_seconds()\n",
    "jun['Trip Duration Num'] = jun['Trip Duration Sec'].values.astype(np.int64)"
   ]
  },
  {
   "cell_type": "code",
   "execution_count": 15,
   "metadata": {},
   "outputs": [],
   "source": [
    "# Drop all the Trip Duration that last less than a minute (make non sense, errors)\n",
    "jun = jun[(jun[\"Trip Duration Num\"] > 60)]"
   ]
  },
  {
   "cell_type": "code",
   "execution_count": 17,
   "metadata": {},
   "outputs": [],
   "source": [
    "# According to Google maps, the longer trip is Staten Island - Manhattan, and in rush hour, you can spend 2 and a half hours\n",
    "# In order to be conservative we are going to consider 4 hour trip as a reasonable trip 4 hours = 14.400 sec\n",
    "jun = jun[(jun[\"Trip Duration Num\"] < 14400)]"
   ]
  },
  {
   "cell_type": "code",
   "execution_count": 18,
   "metadata": {
    "scrolled": true
   },
   "outputs": [
    {
     "data": {
      "text/html": [
       "<div>\n",
       "<style scoped>\n",
       "    .dataframe tbody tr th:only-of-type {\n",
       "        vertical-align: middle;\n",
       "    }\n",
       "\n",
       "    .dataframe tbody tr th {\n",
       "        vertical-align: top;\n",
       "    }\n",
       "\n",
       "    .dataframe thead th {\n",
       "        text-align: right;\n",
       "    }\n",
       "</style>\n",
       "<table border=\"1\" class=\"dataframe\">\n",
       "  <thead>\n",
       "    <tr style=\"text-align: right;\">\n",
       "      <th></th>\n",
       "      <th>passenger_count</th>\n",
       "      <th>trip_distance</th>\n",
       "      <th>PULocationID</th>\n",
       "      <th>DOLocationID</th>\n",
       "      <th>payment_type</th>\n",
       "      <th>fare_amount</th>\n",
       "      <th>total_amount</th>\n",
       "      <th>Trip Duration</th>\n",
       "      <th>Trip Duration Sec</th>\n",
       "      <th>Trip Duration Num</th>\n",
       "    </tr>\n",
       "  </thead>\n",
       "  <tbody>\n",
       "    <tr>\n",
       "      <th>count</th>\n",
       "      <td>8.614344e+06</td>\n",
       "      <td>8.614344e+06</td>\n",
       "      <td>8.614344e+06</td>\n",
       "      <td>8.614344e+06</td>\n",
       "      <td>8.614344e+06</td>\n",
       "      <td>8.614344e+06</td>\n",
       "      <td>8.614344e+06</td>\n",
       "      <td>8614344</td>\n",
       "      <td>8.614344e+06</td>\n",
       "      <td>8.614344e+06</td>\n",
       "    </tr>\n",
       "    <tr>\n",
       "      <th>mean</th>\n",
       "      <td>1.598767e+00</td>\n",
       "      <td>3.028523e+00</td>\n",
       "      <td>1.624094e+02</td>\n",
       "      <td>1.607161e+02</td>\n",
       "      <td>1.309732e+00</td>\n",
       "      <td>1.318120e+01</td>\n",
       "      <td>1.657901e+01</td>\n",
       "      <td>0 days 00:14:48.107120</td>\n",
       "      <td>8.881071e+02</td>\n",
       "      <td>8.881071e+02</td>\n",
       "    </tr>\n",
       "    <tr>\n",
       "      <th>std</th>\n",
       "      <td>1.244775e+00</td>\n",
       "      <td>3.854905e+00</td>\n",
       "      <td>6.670337e+01</td>\n",
       "      <td>7.043794e+01</td>\n",
       "      <td>4.802613e-01</td>\n",
       "      <td>1.172608e+01</td>\n",
       "      <td>1.449621e+01</td>\n",
       "      <td>0 days 00:12:11.353167</td>\n",
       "      <td>7.313532e+02</td>\n",
       "      <td>7.313532e+02</td>\n",
       "    </tr>\n",
       "    <tr>\n",
       "      <th>min</th>\n",
       "      <td>0.000000e+00</td>\n",
       "      <td>0.000000e+00</td>\n",
       "      <td>1.000000e+00</td>\n",
       "      <td>1.000000e+00</td>\n",
       "      <td>1.000000e+00</td>\n",
       "      <td>-3.000000e+02</td>\n",
       "      <td>-3.008000e+02</td>\n",
       "      <td>0 days 00:01:01</td>\n",
       "      <td>6.100000e+01</td>\n",
       "      <td>6.100000e+01</td>\n",
       "    </tr>\n",
       "    <tr>\n",
       "      <th>25%</th>\n",
       "      <td>1.000000e+00</td>\n",
       "      <td>1.000000e+00</td>\n",
       "      <td>1.140000e+02</td>\n",
       "      <td>1.070000e+02</td>\n",
       "      <td>1.000000e+00</td>\n",
       "      <td>6.500000e+00</td>\n",
       "      <td>8.760000e+00</td>\n",
       "      <td>0 days 00:06:47</td>\n",
       "      <td>4.070000e+02</td>\n",
       "      <td>4.070000e+02</td>\n",
       "    </tr>\n",
       "    <tr>\n",
       "      <th>50%</th>\n",
       "      <td>1.000000e+00</td>\n",
       "      <td>1.690000e+00</td>\n",
       "      <td>1.620000e+02</td>\n",
       "      <td>1.620000e+02</td>\n",
       "      <td>1.000000e+00</td>\n",
       "      <td>9.500000e+00</td>\n",
       "      <td>1.207000e+01</td>\n",
       "      <td>0 days 00:11:22</td>\n",
       "      <td>6.820000e+02</td>\n",
       "      <td>6.820000e+02</td>\n",
       "    </tr>\n",
       "    <tr>\n",
       "      <th>75%</th>\n",
       "      <td>2.000000e+00</td>\n",
       "      <td>3.110000e+00</td>\n",
       "      <td>2.330000e+02</td>\n",
       "      <td>2.330000e+02</td>\n",
       "      <td>2.000000e+00</td>\n",
       "      <td>1.500000e+01</td>\n",
       "      <td>1.830000e+01</td>\n",
       "      <td>0 days 00:18:43</td>\n",
       "      <td>1.123000e+03</td>\n",
       "      <td>1.123000e+03</td>\n",
       "    </tr>\n",
       "    <tr>\n",
       "      <th>max</th>\n",
       "      <td>9.000000e+00</td>\n",
       "      <td>8.331000e+02</td>\n",
       "      <td>2.650000e+02</td>\n",
       "      <td>2.650000e+02</td>\n",
       "      <td>4.000000e+00</td>\n",
       "      <td>8.018800e+03</td>\n",
       "      <td>8.019600e+03</td>\n",
       "      <td>0 days 03:59:18</td>\n",
       "      <td>1.435800e+04</td>\n",
       "      <td>1.435800e+04</td>\n",
       "    </tr>\n",
       "  </tbody>\n",
       "</table>\n",
       "</div>"
      ],
      "text/plain": [
       "       passenger_count  trip_distance  PULocationID  DOLocationID  \\\n",
       "count     8.614344e+06   8.614344e+06  8.614344e+06  8.614344e+06   \n",
       "mean      1.598767e+00   3.028523e+00  1.624094e+02  1.607161e+02   \n",
       "std       1.244775e+00   3.854905e+00  6.670337e+01  7.043794e+01   \n",
       "min       0.000000e+00   0.000000e+00  1.000000e+00  1.000000e+00   \n",
       "25%       1.000000e+00   1.000000e+00  1.140000e+02  1.070000e+02   \n",
       "50%       1.000000e+00   1.690000e+00  1.620000e+02  1.620000e+02   \n",
       "75%       2.000000e+00   3.110000e+00  2.330000e+02  2.330000e+02   \n",
       "max       9.000000e+00   8.331000e+02  2.650000e+02  2.650000e+02   \n",
       "\n",
       "       payment_type   fare_amount  total_amount           Trip Duration  \\\n",
       "count  8.614344e+06  8.614344e+06  8.614344e+06                 8614344   \n",
       "mean   1.309732e+00  1.318120e+01  1.657901e+01  0 days 00:14:48.107120   \n",
       "std    4.802613e-01  1.172608e+01  1.449621e+01  0 days 00:12:11.353167   \n",
       "min    1.000000e+00 -3.000000e+02 -3.008000e+02         0 days 00:01:01   \n",
       "25%    1.000000e+00  6.500000e+00  8.760000e+00         0 days 00:06:47   \n",
       "50%    1.000000e+00  9.500000e+00  1.207000e+01         0 days 00:11:22   \n",
       "75%    2.000000e+00  1.500000e+01  1.830000e+01         0 days 00:18:43   \n",
       "max    4.000000e+00  8.018800e+03  8.019600e+03         0 days 03:59:18   \n",
       "\n",
       "       Trip Duration Sec  Trip Duration Num  \n",
       "count       8.614344e+06       8.614344e+06  \n",
       "mean        8.881071e+02       8.881071e+02  \n",
       "std         7.313532e+02       7.313532e+02  \n",
       "min         6.100000e+01       6.100000e+01  \n",
       "25%         4.070000e+02       4.070000e+02  \n",
       "50%         6.820000e+02       6.820000e+02  \n",
       "75%         1.123000e+03       1.123000e+03  \n",
       "max         1.435800e+04       1.435800e+04  "
      ]
     },
     "execution_count": 18,
     "metadata": {},
     "output_type": "execute_result"
    }
   ],
   "source": [
    "jun.describe()"
   ]
  },
  {
   "cell_type": "code",
   "execution_count": 19,
   "metadata": {},
   "outputs": [],
   "source": [
    "# Deal with zero numbers..as o passengers and 0 distance does not make sense, we are going to use NaN values\n",
    "# for not mess with our calculations\n",
    "cols = [\"passenger_count\", \"trip_distance\"]\n",
    "jun[cols] = jun[cols].replace({0:np.nan})"
   ]
  },
  {
   "cell_type": "code",
   "execution_count": 12,
   "metadata": {},
   "outputs": [],
   "source": [
    "# Download the data base \n",
    "jun.to_csv('06jun.csv')"
   ]
  },
  {
   "cell_type": "markdown",
   "metadata": {},
   "source": [
    "#### RQ1. In what period of the year Taxis are used more? Create a plot that, for each month, shows the average number of trips recorded each day. Due to the differences among New York zones, we want to visualize the same information for each boroughs. Do you notice any difference among them? Provide comments and plausible explanations about what you observe (e.g.: what is the month with the highest daily average?)."
   ]
  },
  {
   "cell_type": "code",
   "execution_count": null,
   "metadata": {},
   "outputs": [],
   "source": []
  },
  {
   "cell_type": "markdown",
   "metadata": {},
   "source": [
    "####  RQ2. What are the time slots with more passengers? Set your own time slots and discover which are those when Taxis drive the highest number of passengers overall New York and repeat the analysis for each borough. Provide the results through a visualization and comment them."
   ]
  },
  {
   "cell_type": "code",
   "execution_count": 1,
   "metadata": {},
   "outputs": [],
   "source": [
    "# Import the libaries needed\n",
    "import pandas as pd\n",
    "import matplotlib.pyplot as plt\n",
    "%matplotlib inline\n",
    "import numpy as np"
   ]
  },
  {
   "cell_type": "code",
   "execution_count": 2,
   "metadata": {},
   "outputs": [],
   "source": [
    "# Import all the data bases and select only the columns that I need for the exercise"
   ]
  },
  {
   "cell_type": "code",
   "execution_count": 3,
   "metadata": {},
   "outputs": [],
   "source": [
    "cols_of_interest = ['tpep_pickup_datetime', 'passenger_count', 'PULocationID']"
   ]
  },
  {
   "cell_type": "code",
   "execution_count": 4,
   "metadata": {},
   "outputs": [],
   "source": [
    "jan = pd.read_csv('01jan.csv')\n",
    "jan = jan[cols_of_interest]"
   ]
  },
  {
   "cell_type": "code",
   "execution_count": 5,
   "metadata": {},
   "outputs": [],
   "source": [
    "feb = pd.read_csv('02feb.csv')\n",
    "feb = feb[cols_of_interest]"
   ]
  },
  {
   "cell_type": "code",
   "execution_count": 6,
   "metadata": {},
   "outputs": [],
   "source": [
    "mar = pd.read_csv('03mar.csv')\n",
    "mar = mar[cols_of_interest]"
   ]
  },
  {
   "cell_type": "code",
   "execution_count": 7,
   "metadata": {},
   "outputs": [],
   "source": [
    "apr = pd.read_csv('04apr.csv')\n",
    "apr = apr[cols_of_interest]"
   ]
  },
  {
   "cell_type": "code",
   "execution_count": 8,
   "metadata": {},
   "outputs": [],
   "source": [
    "may = pd.read_csv('05may.csv')\n",
    "may = may[cols_of_interest]"
   ]
  },
  {
   "cell_type": "code",
   "execution_count": 9,
   "metadata": {},
   "outputs": [],
   "source": [
    "jun = pd.read_csv('06jun.csv')\n",
    "jun  = jun[cols_of_interest]"
   ]
  },
  {
   "cell_type": "code",
   "execution_count": 10,
   "metadata": {},
   "outputs": [],
   "source": [
    "# Concatenate all this data bases in one\n",
    "frames = [jan, feb, mar, apr, may, jun]\n",
    "RQ2 = pd.concat(frames)"
   ]
  },
  {
   "cell_type": "markdown",
   "metadata": {},
   "source": [
    "To be able to perform this analysis, we need first to create variable that represent the time when a taxi is requested. In our case we are going to time slots from one hour.\n",
    "\n",
    "Let's analyze the data types of our variables."
   ]
  },
  {
   "cell_type": "code",
   "execution_count": 11,
   "metadata": {},
   "outputs": [
    {
     "data": {
      "text/plain": [
       "tpep_pickup_datetime     object\n",
       "passenger_count         float64\n",
       "PULocationID              int64\n",
       "dtype: object"
      ]
     },
     "execution_count": 11,
     "metadata": {},
     "output_type": "execute_result"
    }
   ],
   "source": [
    "RQ2.dtypes"
   ]
  },
  {
   "cell_type": "markdown",
   "metadata": {},
   "source": [
    "With the aim of creating the variable \"Hour\", first we are going to transform the variable tpep_pickup_datetime in a datetime format, and then we are going to extract only the hour, truncating the minutes and that is going to be our time slot. "
   ]
  },
  {
   "cell_type": "code",
   "execution_count": 12,
   "metadata": {},
   "outputs": [],
   "source": [
    "# Transform the variable tpep_pickup_datetime in datetime format\n",
    "RQ2['tpep_pickup_datetime'] = pd.to_datetime(RQ2['tpep_pickup_datetime'])\n",
    "\n",
    "# Create the variable hour as a new column\n",
    "RQ2[\"Hour\"] = RQ2.tpep_pickup_datetime.dt.hour"
   ]
  },
  {
   "cell_type": "code",
   "execution_count": 13,
   "metadata": {},
   "outputs": [
    {
     "data": {
      "text/html": [
       "<div>\n",
       "<style scoped>\n",
       "    .dataframe tbody tr th:only-of-type {\n",
       "        vertical-align: middle;\n",
       "    }\n",
       "\n",
       "    .dataframe tbody tr th {\n",
       "        vertical-align: top;\n",
       "    }\n",
       "\n",
       "    .dataframe thead th {\n",
       "        text-align: right;\n",
       "    }\n",
       "</style>\n",
       "<table border=\"1\" class=\"dataframe\">\n",
       "  <thead>\n",
       "    <tr style=\"text-align: right;\">\n",
       "      <th></th>\n",
       "      <th>tpep_pickup_datetime</th>\n",
       "      <th>passenger_count</th>\n",
       "      <th>PULocationID</th>\n",
       "      <th>Hour</th>\n",
       "    </tr>\n",
       "  </thead>\n",
       "  <tbody>\n",
       "    <tr>\n",
       "      <th>0</th>\n",
       "      <td>2018-01-01 00:21:05</td>\n",
       "      <td>1.0</td>\n",
       "      <td>41</td>\n",
       "      <td>0</td>\n",
       "    </tr>\n",
       "    <tr>\n",
       "      <th>1</th>\n",
       "      <td>2018-01-01 00:44:55</td>\n",
       "      <td>1.0</td>\n",
       "      <td>239</td>\n",
       "      <td>0</td>\n",
       "    </tr>\n",
       "    <tr>\n",
       "      <th>2</th>\n",
       "      <td>2018-01-01 00:08:26</td>\n",
       "      <td>2.0</td>\n",
       "      <td>262</td>\n",
       "      <td>0</td>\n",
       "    </tr>\n",
       "    <tr>\n",
       "      <th>3</th>\n",
       "      <td>2018-01-01 00:20:22</td>\n",
       "      <td>1.0</td>\n",
       "      <td>140</td>\n",
       "      <td>0</td>\n",
       "    </tr>\n",
       "    <tr>\n",
       "      <th>4</th>\n",
       "      <td>2018-01-01 00:09:18</td>\n",
       "      <td>2.0</td>\n",
       "      <td>246</td>\n",
       "      <td>0</td>\n",
       "    </tr>\n",
       "  </tbody>\n",
       "</table>\n",
       "</div>"
      ],
      "text/plain": [
       "  tpep_pickup_datetime  passenger_count  PULocationID  Hour\n",
       "0  2018-01-01 00:21:05              1.0            41     0\n",
       "1  2018-01-01 00:44:55              1.0           239     0\n",
       "2  2018-01-01 00:08:26              2.0           262     0\n",
       "3  2018-01-01 00:20:22              1.0           140     0\n",
       "4  2018-01-01 00:09:18              2.0           246     0"
      ]
     },
     "execution_count": 13,
     "metadata": {},
     "output_type": "execute_result"
    }
   ],
   "source": [
    "# Does everything looks normal?\n",
    "RQ2.head()"
   ]
  },
  {
   "cell_type": "code",
   "execution_count": 14,
   "metadata": {},
   "outputs": [
    {
     "data": {
      "text/html": [
       "<div>\n",
       "<style scoped>\n",
       "    .dataframe tbody tr th:only-of-type {\n",
       "        vertical-align: middle;\n",
       "    }\n",
       "\n",
       "    .dataframe tbody tr th {\n",
       "        vertical-align: top;\n",
       "    }\n",
       "\n",
       "    .dataframe thead th {\n",
       "        text-align: right;\n",
       "    }\n",
       "</style>\n",
       "<table border=\"1\" class=\"dataframe\">\n",
       "  <thead>\n",
       "    <tr style=\"text-align: right;\">\n",
       "      <th></th>\n",
       "      <th>passenger_count</th>\n",
       "      <th>PULocationID</th>\n",
       "      <th>Hour</th>\n",
       "    </tr>\n",
       "  </thead>\n",
       "  <tbody>\n",
       "    <tr>\n",
       "      <th>count</th>\n",
       "      <td>4.584210e+07</td>\n",
       "      <td>4.617839e+07</td>\n",
       "      <td>4.617839e+07</td>\n",
       "    </tr>\n",
       "    <tr>\n",
       "      <th>mean</th>\n",
       "      <td>1.612893e+00</td>\n",
       "      <td>1.630845e+02</td>\n",
       "      <td>1.379097e+01</td>\n",
       "    </tr>\n",
       "    <tr>\n",
       "      <th>std</th>\n",
       "      <td>1.244851e+00</td>\n",
       "      <td>6.651919e+01</td>\n",
       "      <td>6.129612e+00</td>\n",
       "    </tr>\n",
       "    <tr>\n",
       "      <th>min</th>\n",
       "      <td>0.000000e+00</td>\n",
       "      <td>1.000000e+00</td>\n",
       "      <td>0.000000e+00</td>\n",
       "    </tr>\n",
       "    <tr>\n",
       "      <th>25%</th>\n",
       "      <td>1.000000e+00</td>\n",
       "      <td>1.140000e+02</td>\n",
       "      <td>9.000000e+00</td>\n",
       "    </tr>\n",
       "    <tr>\n",
       "      <th>50%</th>\n",
       "      <td>1.000000e+00</td>\n",
       "      <td>1.620000e+02</td>\n",
       "      <td>1.400000e+01</td>\n",
       "    </tr>\n",
       "    <tr>\n",
       "      <th>75%</th>\n",
       "      <td>2.000000e+00</td>\n",
       "      <td>2.330000e+02</td>\n",
       "      <td>1.900000e+01</td>\n",
       "    </tr>\n",
       "    <tr>\n",
       "      <th>max</th>\n",
       "      <td>1.920000e+02</td>\n",
       "      <td>2.650000e+02</td>\n",
       "      <td>2.300000e+01</td>\n",
       "    </tr>\n",
       "  </tbody>\n",
       "</table>\n",
       "</div>"
      ],
      "text/plain": [
       "       passenger_count  PULocationID          Hour\n",
       "count     4.584210e+07  4.617839e+07  4.617839e+07\n",
       "mean      1.612893e+00  1.630845e+02  1.379097e+01\n",
       "std       1.244851e+00  6.651919e+01  6.129612e+00\n",
       "min       0.000000e+00  1.000000e+00  0.000000e+00\n",
       "25%       1.000000e+00  1.140000e+02  9.000000e+00\n",
       "50%       1.000000e+00  1.620000e+02  1.400000e+01\n",
       "75%       2.000000e+00  2.330000e+02  1.900000e+01\n",
       "max       1.920000e+02  2.650000e+02  2.300000e+01"
      ]
     },
     "execution_count": 14,
     "metadata": {},
     "output_type": "execute_result"
    }
   ],
   "source": [
    "RQ2.describe()"
   ]
  },
  {
   "cell_type": "markdown",
   "metadata": {},
   "source": [
    "The \"Hour\" variable looks normal, but the \"passenger_count\" variable has values equal to zero, which does not make sense. Let's assume they are errors convert them into NaN values in order to not to alter the results"
   ]
  },
  {
   "cell_type": "code",
   "execution_count": 15,
   "metadata": {},
   "outputs": [],
   "source": [
    "RQ2[\"passenger_count\"] = RQ2[\"passenger_count\"].replace({0:np.nan})"
   ]
  },
  {
   "cell_type": "code",
   "execution_count": 16,
   "metadata": {},
   "outputs": [
    {
     "data": {
      "text/html": [
       "<div>\n",
       "<style scoped>\n",
       "    .dataframe tbody tr th:only-of-type {\n",
       "        vertical-align: middle;\n",
       "    }\n",
       "\n",
       "    .dataframe tbody tr th {\n",
       "        vertical-align: top;\n",
       "    }\n",
       "\n",
       "    .dataframe thead th {\n",
       "        text-align: right;\n",
       "    }\n",
       "</style>\n",
       "<table border=\"1\" class=\"dataframe\">\n",
       "  <thead>\n",
       "    <tr style=\"text-align: right;\">\n",
       "      <th></th>\n",
       "      <th>passenger_count</th>\n",
       "      <th>PULocationID</th>\n",
       "      <th>Hour</th>\n",
       "    </tr>\n",
       "  </thead>\n",
       "  <tbody>\n",
       "    <tr>\n",
       "      <th>count</th>\n",
       "      <td>4.583326e+07</td>\n",
       "      <td>4.617839e+07</td>\n",
       "      <td>4.617839e+07</td>\n",
       "    </tr>\n",
       "    <tr>\n",
       "      <th>mean</th>\n",
       "      <td>1.613204e+00</td>\n",
       "      <td>1.630845e+02</td>\n",
       "      <td>1.379097e+01</td>\n",
       "    </tr>\n",
       "    <tr>\n",
       "      <th>std</th>\n",
       "      <td>1.244770e+00</td>\n",
       "      <td>6.651919e+01</td>\n",
       "      <td>6.129612e+00</td>\n",
       "    </tr>\n",
       "    <tr>\n",
       "      <th>min</th>\n",
       "      <td>1.000000e+00</td>\n",
       "      <td>1.000000e+00</td>\n",
       "      <td>0.000000e+00</td>\n",
       "    </tr>\n",
       "    <tr>\n",
       "      <th>25%</th>\n",
       "      <td>1.000000e+00</td>\n",
       "      <td>1.140000e+02</td>\n",
       "      <td>9.000000e+00</td>\n",
       "    </tr>\n",
       "    <tr>\n",
       "      <th>50%</th>\n",
       "      <td>1.000000e+00</td>\n",
       "      <td>1.620000e+02</td>\n",
       "      <td>1.400000e+01</td>\n",
       "    </tr>\n",
       "    <tr>\n",
       "      <th>75%</th>\n",
       "      <td>2.000000e+00</td>\n",
       "      <td>2.330000e+02</td>\n",
       "      <td>1.900000e+01</td>\n",
       "    </tr>\n",
       "    <tr>\n",
       "      <th>max</th>\n",
       "      <td>1.920000e+02</td>\n",
       "      <td>2.650000e+02</td>\n",
       "      <td>2.300000e+01</td>\n",
       "    </tr>\n",
       "  </tbody>\n",
       "</table>\n",
       "</div>"
      ],
      "text/plain": [
       "       passenger_count  PULocationID          Hour\n",
       "count     4.583326e+07  4.617839e+07  4.617839e+07\n",
       "mean      1.613204e+00  1.630845e+02  1.379097e+01\n",
       "std       1.244770e+00  6.651919e+01  6.129612e+00\n",
       "min       1.000000e+00  1.000000e+00  0.000000e+00\n",
       "25%       1.000000e+00  1.140000e+02  9.000000e+00\n",
       "50%       1.000000e+00  1.620000e+02  1.400000e+01\n",
       "75%       2.000000e+00  2.330000e+02  1.900000e+01\n",
       "max       1.920000e+02  2.650000e+02  2.300000e+01"
      ]
     },
     "execution_count": 16,
     "metadata": {},
     "output_type": "execute_result"
    }
   ],
   "source": [
    "# Does everything looks normal?\n",
    "RQ2.describe()"
   ]
  },
  {
   "cell_type": "markdown",
   "metadata": {},
   "source": [
    "Now that we are satisfied with how all our variables looks like, we will proceed to graph the number of passengers per hour averall Manhattan."
   ]
  },
  {
   "cell_type": "code",
   "execution_count": 17,
   "metadata": {},
   "outputs": [
    {
     "data": {
      "text/plain": [
       "<matplotlib.axes._subplots.AxesSubplot at 0x1bfc3abb7f0>"
      ]
     },
     "execution_count": 17,
     "metadata": {},
     "output_type": "execute_result"
    },
    {
     "data": {
      "image/png": "[encoded data removed]",
      "text/plain": [
       "<Figure size 432x288 with 1 Axes>"
      ]
     },
     "metadata": {},
     "output_type": "display_data"
    }
   ],
   "source": [
    "# Total number of passengers per hour overall New York\n",
    "passengers_per_hour = RQ2.groupby([\"Hour\"])['passenger_count'].sum()\n",
    "passengers_per_hour.plot(title=\"Passengers per hour overall New York\")"
   ]
  },
  {
   "cell_type": "markdown",
   "metadata": {},
   "source": [
    "We can clearly see that the hours of the day in which there are more people traveling by taxi in New York are between 9 in the morning and 9 in the evening, having a maximum around 6 in the evening, greatly reducing its amount between 3 and 5 d in the early morning.\n",
    "\n",
    "This makes sense, since people probably use taxis to get around the city during the day and especially at the end of the workday.\n",
    "\n",
    "Following, in order to complete the analysis between the boroughs, we will import the database \"taxi_zone_lookup\", and merge it with our current database by the variable \"PULocationID\", since we are using the pick up datetime of the time slots."
   ]
  },
  {
   "cell_type": "code",
   "execution_count": 18,
   "metadata": {},
   "outputs": [],
   "source": [
    "# Import the taxi_zone_lookup data base\n",
    "taxi_zone_data = pd.read_csv('taxi_zone_lookup.csv')\n",
    "\n",
    "# Rename the variable PULocationID, to be able to make the merging\n",
    "RQ2 = RQ2.rename(columns={'PULocationID': 'LocationID'})\n",
    "\n",
    "# Merge them and select only the columns of interest\n",
    "RQ2 = pd.merge(RQ2, taxi_zone_data, on=\"LocationID\")\n",
    "cols_of_interest = ['Hour', 'passenger_count', 'Borough']\n",
    "RQ2 = RQ2[cols_of_interest]"
   ]
  },
  {
   "cell_type": "markdown",
   "metadata": {},
   "source": [
    "Now we are ready to compute the number of passengers per borough. "
   ]
  },
  {
   "cell_type": "code",
   "execution_count": 20,
   "metadata": {},
   "outputs": [
    {
     "data": {
      "text/plain": [
       "<matplotlib.axes._subplots.AxesSubplot at 0x1bfc857b358>"
      ]
     },
     "execution_count": 20,
     "metadata": {},
     "output_type": "execute_result"
    },
    {
     "data": {
      "image/png": "[encoded data removed]",
      "text/plain": [
       "<Figure size 1080x504 with 1 Axes>"
      ]
     },
     "metadata": {},
     "output_type": "display_data"
    }
   ],
   "source": [
    "# Plot of the total number of passangers among New York, by borough\n",
    "fig, ax = plt.subplots(figsize=(15,7))\n",
    "RQ2.groupby(['Hour','Borough']).sum()['passenger_count'].unstack().plot(ax=ax)"
   ]
  },
  {
   "cell_type": "markdown",
   "metadata": {},
   "source": [
    "As we can see in the plot, we have some data with Unknown borough, in order of doing so that they do not hinder the analysis, we are going to not consider them. "
   ]
  },
  {
   "cell_type": "code",
   "execution_count": 22,
   "metadata": {
    "scrolled": true
   },
   "outputs": [],
   "source": [
    "RQ2 = RQ2[RQ2['Borough'].isin(['Bronx', 'Brooklyn', \"EWR\", \"Manhattan\", \"Queens\", \"Staten Island\"])]"
   ]
  },
  {
   "cell_type": "code",
   "execution_count": 23,
   "metadata": {},
   "outputs": [
    {
     "data": {
      "text/plain": [
       "<matplotlib.axes._subplots.AxesSubplot at 0x1bfc3db60f0>"
      ]
     },
     "execution_count": 23,
     "metadata": {},
     "output_type": "execute_result"
    },
    {
     "data": {
      "image/png": "[encoded data removed]",
      "text/plain": [
       "<Figure size 1080x504 with 1 Axes>"
      ]
     },
     "metadata": {},
     "output_type": "display_data"
    }
   ],
   "source": [
    "# Plot of the total number of passangers among New York, by borough\n",
    "fig, ax = plt.subplots(figsize=(15,7))\n",
    "RQ2.groupby(['Hour','Borough']).sum()['passenger_count'].unstack().plot(ax=ax)"
   ]
  },
  {
   "cell_type": "markdown",
   "metadata": {},
   "source": [
    "As we can see in the graph, Manhatan has an influx of passengers much larger than the other boroughs, this makes sense because yellow taxis usually leave New York and we are also using the data of pick up both to determine the borough, as well as the time.\n",
    "\n",
    "Note also that Manhattan behaves very similarly to the aggregate, which makes sense because most of the data correspond to Manhattan.\n",
    "\n",
    "To finish the analysis we are going to repeat the previous graph, but without Manhattan, to see better how other neighborhoods behave."
   ]
  },
  {
   "cell_type": "code",
   "execution_count": 24,
   "metadata": {},
   "outputs": [],
   "source": [
    "RQ2 = RQ2[RQ2['Borough'].isin(['Bronx', 'Brooklyn', \"EWR\", \"Queens\", \"Staten Island\"])]"
   ]
  },
  {
   "cell_type": "code",
   "execution_count": 25,
   "metadata": {},
   "outputs": [
    {
     "data": {
      "text/plain": [
       "<matplotlib.axes._subplots.AxesSubplot at 0x1bf637a99e8>"
      ]
     },
     "execution_count": 25,
     "metadata": {},
     "output_type": "execute_result"
    },
    {
     "data": {
      "image/png": "[encoded data removed]",
      "text/plain": [
       "<Figure size 1080x504 with 1 Axes>"
      ]
     },
     "metadata": {},
     "output_type": "display_data"
    }
   ],
   "source": [
    "# Plot of the total number of passangers among New York, by borough\n",
    "fig, ax = plt.subplots(figsize=(15,7))\n",
    "RQ2.groupby(['Hour','Borough']).sum()['passenger_count'].unstack().plot(ax=ax)"
   ]
  },
  {
   "cell_type": "markdown",
   "metadata": {},
   "source": [
    "Looking at this plot, we can see that Queens is the second borough with more passengers, and Brooklyn comes in third, with also some picks on the evenings and bottoms in the early morning.\n",
    "\n",
    "The demand of EWR taxis, on the other hand, it looks more flat, and this makes sense because the number of people that use a taxi for going to the Aerport it is not so sensitive to the hours of the day."
   ]
  },
  {
   "cell_type": "markdown",
   "metadata": {},
   "source": [
    "#### RQ3. Do the all trips last the same? Let's put our attention on the distribution of trip's duration. Provide a plot for it and comment what you see. Run this analysis for NYC and for each borough (and obviously comment the results!)."
   ]
  },
  {
   "cell_type": "code",
   "execution_count": 1,
   "metadata": {},
   "outputs": [],
   "source": [
    "# Import all the libraries needed\n",
    "import pandas as pd\n",
    "import matplotlib.pyplot as plt\n",
    "%matplotlib inline\n",
    "import numpy as np"
   ]
  },
  {
   "cell_type": "code",
   "execution_count": null,
   "metadata": {},
   "outputs": [],
   "source": [
    "# Import all the data bases and select only the columns that I need for the exercise"
   ]
  },
  {
   "cell_type": "code",
   "execution_count": 2,
   "metadata": {},
   "outputs": [],
   "source": [
    "cols_of_interest = ['tpep_pickup_datetime', 'tpep_dropoff_datetime', \"PULocationID\"]"
   ]
  },
  {
   "cell_type": "code",
   "execution_count": 3,
   "metadata": {},
   "outputs": [],
   "source": [
    "jan = pd.read_csv('01jan.csv')\n",
    "jan = jan[cols_of_interest]"
   ]
  },
  {
   "cell_type": "code",
   "execution_count": 4,
   "metadata": {},
   "outputs": [],
   "source": [
    "feb = pd.read_csv('02feb.csv')\n",
    "feb = feb[cols_of_interest]"
   ]
  },
  {
   "cell_type": "code",
   "execution_count": 5,
   "metadata": {},
   "outputs": [],
   "source": [
    "mar = pd.read_csv('03mar.csv')\n",
    "mar = mar[cols_of_interest]"
   ]
  },
  {
   "cell_type": "code",
   "execution_count": 6,
   "metadata": {},
   "outputs": [],
   "source": [
    "apr = pd.read_csv('04apr.csv')\n",
    "apr = apr[cols_of_interest]"
   ]
  },
  {
   "cell_type": "code",
   "execution_count": 7,
   "metadata": {},
   "outputs": [],
   "source": [
    "may = pd.read_csv('05may.csv')\n",
    "may = may[cols_of_interest]"
   ]
  },
  {
   "cell_type": "code",
   "execution_count": 8,
   "metadata": {},
   "outputs": [],
   "source": [
    "jun = pd.read_csv('06jun.csv')\n",
    "jun  = jun[cols_of_interest]"
   ]
  },
  {
   "cell_type": "code",
   "execution_count": 9,
   "metadata": {},
   "outputs": [],
   "source": [
    "# Concatenate all the data bases in one\n",
    "frames = [jan, feb, mar, apr, may, jun]\n",
    "RQ3 = pd.concat(frames)"
   ]
  },
  {
   "cell_type": "markdown",
   "metadata": {},
   "source": [
    "With the aim of answering this question, we need to create the variable Trip Duration.\n",
    "\n",
    "In order to do that, let's consult the data types of our current variables."
   ]
  },
  {
   "cell_type": "code",
   "execution_count": 11,
   "metadata": {},
   "outputs": [
    {
     "data": {
      "text/plain": [
       "tpep_pickup_datetime     object\n",
       "tpep_dropoff_datetime    object\n",
       "PULocationID              int64\n",
       "dtype: object"
      ]
     },
     "execution_count": 11,
     "metadata": {},
     "output_type": "execute_result"
    }
   ],
   "source": [
    "RQ3.dtypes"
   ]
  },
  {
   "cell_type": "markdown",
   "metadata": {},
   "source": [
    "First of all, we need to convert the variables 'tpep_pickup_datetime' and 'tpep_dropoff_datetime' in datatime format, after that I can easly sustract both variables and compute the Trip Duration. "
   ]
  },
  {
   "cell_type": "code",
   "execution_count": 12,
   "metadata": {},
   "outputs": [],
   "source": [
    "# Transform the variable tpep_pickup_datetime in datetime format\n",
    "RQ3['tpep_pickup_datetime'] = pd.to_datetime(RQ3['tpep_pickup_datetime'])\n",
    "\n",
    "# Transform the variable tpep_dropoff_datetime in datetime format\n",
    "RQ3['tpep_dropoff_datetime'] = pd.to_datetime(RQ3['tpep_dropoff_datetime'])\n",
    "\n",
    "# Create the variable Trip Duration \n",
    "RQ3[\"Trip Duration\"] = RQ3[\"tpep_dropoff_datetime\"] - RQ3['tpep_pickup_datetime']"
   ]
  },
  {
   "cell_type": "code",
   "execution_count": 13,
   "metadata": {},
   "outputs": [
    {
     "data": {
      "text/html": [
       "<div>\n",
       "<style scoped>\n",
       "    .dataframe tbody tr th:only-of-type {\n",
       "        vertical-align: middle;\n",
       "    }\n",
       "\n",
       "    .dataframe tbody tr th {\n",
       "        vertical-align: top;\n",
       "    }\n",
       "\n",
       "    .dataframe thead th {\n",
       "        text-align: right;\n",
       "    }\n",
       "</style>\n",
       "<table border=\"1\" class=\"dataframe\">\n",
       "  <thead>\n",
       "    <tr style=\"text-align: right;\">\n",
       "      <th></th>\n",
       "      <th>tpep_pickup_datetime</th>\n",
       "      <th>tpep_dropoff_datetime</th>\n",
       "      <th>PULocationID</th>\n",
       "      <th>Trip Duration</th>\n",
       "    </tr>\n",
       "  </thead>\n",
       "  <tbody>\n",
       "    <tr>\n",
       "      <th>0</th>\n",
       "      <td>2018-01-01 00:21:05</td>\n",
       "      <td>2018-01-01 00:24:23</td>\n",
       "      <td>41</td>\n",
       "      <td>00:03:18</td>\n",
       "    </tr>\n",
       "    <tr>\n",
       "      <th>1</th>\n",
       "      <td>2018-01-01 00:44:55</td>\n",
       "      <td>2018-01-01 01:03:05</td>\n",
       "      <td>239</td>\n",
       "      <td>00:18:10</td>\n",
       "    </tr>\n",
       "    <tr>\n",
       "      <th>2</th>\n",
       "      <td>2018-01-01 00:08:26</td>\n",
       "      <td>2018-01-01 00:14:21</td>\n",
       "      <td>262</td>\n",
       "      <td>00:05:55</td>\n",
       "    </tr>\n",
       "    <tr>\n",
       "      <th>3</th>\n",
       "      <td>2018-01-01 00:20:22</td>\n",
       "      <td>2018-01-01 00:52:51</td>\n",
       "      <td>140</td>\n",
       "      <td>00:32:29</td>\n",
       "    </tr>\n",
       "    <tr>\n",
       "      <th>4</th>\n",
       "      <td>2018-01-01 00:09:18</td>\n",
       "      <td>2018-01-01 00:27:06</td>\n",
       "      <td>246</td>\n",
       "      <td>00:17:48</td>\n",
       "    </tr>\n",
       "  </tbody>\n",
       "</table>\n",
       "</div>"
      ],
      "text/plain": [
       "  tpep_pickup_datetime tpep_dropoff_datetime  PULocationID Trip Duration\n",
       "0  2018-01-01 00:21:05   2018-01-01 00:24:23            41      00:03:18\n",
       "1  2018-01-01 00:44:55   2018-01-01 01:03:05           239      00:18:10\n",
       "2  2018-01-01 00:08:26   2018-01-01 00:14:21           262      00:05:55\n",
       "3  2018-01-01 00:20:22   2018-01-01 00:52:51           140      00:32:29\n",
       "4  2018-01-01 00:09:18   2018-01-01 00:27:06           246      00:17:48"
      ]
     },
     "execution_count": 13,
     "metadata": {},
     "output_type": "execute_result"
    }
   ],
   "source": [
    "# Does everything looks normal?\n",
    "RQ3.head()"
   ]
  },
  {
   "cell_type": "code",
   "execution_count": 14,
   "metadata": {},
   "outputs": [
    {
     "data": {
      "text/html": [
       "<div>\n",
       "<style scoped>\n",
       "    .dataframe tbody tr th:only-of-type {\n",
       "        vertical-align: middle;\n",
       "    }\n",
       "\n",
       "    .dataframe tbody tr th {\n",
       "        vertical-align: top;\n",
       "    }\n",
       "\n",
       "    .dataframe thead th {\n",
       "        text-align: right;\n",
       "    }\n",
       "</style>\n",
       "<table border=\"1\" class=\"dataframe\">\n",
       "  <thead>\n",
       "    <tr style=\"text-align: right;\">\n",
       "      <th></th>\n",
       "      <th>PULocationID</th>\n",
       "      <th>Trip Duration</th>\n",
       "    </tr>\n",
       "  </thead>\n",
       "  <tbody>\n",
       "    <tr>\n",
       "      <th>count</th>\n",
       "      <td>4.617839e+07</td>\n",
       "      <td>46178390</td>\n",
       "    </tr>\n",
       "    <tr>\n",
       "      <th>mean</th>\n",
       "      <td>1.630845e+02</td>\n",
       "      <td>0 days 00:14:13.965415</td>\n",
       "    </tr>\n",
       "    <tr>\n",
       "      <th>std</th>\n",
       "      <td>6.651919e+01</td>\n",
       "      <td>0 days 00:11:36.429721</td>\n",
       "    </tr>\n",
       "    <tr>\n",
       "      <th>min</th>\n",
       "      <td>1.000000e+00</td>\n",
       "      <td>0 days 00:01:01</td>\n",
       "    </tr>\n",
       "    <tr>\n",
       "      <th>25%</th>\n",
       "      <td>1.140000e+02</td>\n",
       "      <td>0 days 00:06:36</td>\n",
       "    </tr>\n",
       "    <tr>\n",
       "      <th>50%</th>\n",
       "      <td>1.620000e+02</td>\n",
       "      <td>0 days 00:11:00</td>\n",
       "    </tr>\n",
       "    <tr>\n",
       "      <th>75%</th>\n",
       "      <td>2.330000e+02</td>\n",
       "      <td>0 days 00:18:02</td>\n",
       "    </tr>\n",
       "    <tr>\n",
       "      <th>max</th>\n",
       "      <td>2.650000e+02</td>\n",
       "      <td>0 days 03:59:53</td>\n",
       "    </tr>\n",
       "  </tbody>\n",
       "</table>\n",
       "</div>"
      ],
      "text/plain": [
       "       PULocationID           Trip Duration\n",
       "count  4.617839e+07                46178390\n",
       "mean   1.630845e+02  0 days 00:14:13.965415\n",
       "std    6.651919e+01  0 days 00:11:36.429721\n",
       "min    1.000000e+00         0 days 00:01:01\n",
       "25%    1.140000e+02         0 days 00:06:36\n",
       "50%    1.620000e+02         0 days 00:11:00\n",
       "75%    2.330000e+02         0 days 00:18:02\n",
       "max    2.650000e+02         0 days 03:59:53"
      ]
     },
     "execution_count": 14,
     "metadata": {},
     "output_type": "execute_result"
    }
   ],
   "source": [
    "RQ3.describe()"
   ]
  },
  {
   "cell_type": "markdown",
   "metadata": {},
   "source": [
    "Our new variable, looks normal, but the problem is that we can't plot an histogram of a datatype variable. Because of that, we are going to transform our new variable \"Trip Duration\" in a new variable that express the duration of the trip in seconds and then, transform it in an integer, having as a result the variable call \"Trip Duration Num\" that corresponds a integer with the quantity of second that the trip last."
   ]
  },
  {
   "cell_type": "code",
   "execution_count": 15,
   "metadata": {},
   "outputs": [],
   "source": [
    "# Transform the variable Trip Duration in a variable that has all the seconds of trip duration\n",
    "RQ3['Trip Duration Sec'] = RQ3['Trip Duration'].dt.total_seconds()\n",
    "# Transform the new variable in integer data type\n",
    "RQ3['Trip Duration Num'] = RQ3['Trip Duration Sec'].values.astype(np.int64)"
   ]
  },
  {
   "cell_type": "code",
   "execution_count": 16,
   "metadata": {},
   "outputs": [
    {
     "data": {
      "text/html": [
       "<div>\n",
       "<style scoped>\n",
       "    .dataframe tbody tr th:only-of-type {\n",
       "        vertical-align: middle;\n",
       "    }\n",
       "\n",
       "    .dataframe tbody tr th {\n",
       "        vertical-align: top;\n",
       "    }\n",
       "\n",
       "    .dataframe thead th {\n",
       "        text-align: right;\n",
       "    }\n",
       "</style>\n",
       "<table border=\"1\" class=\"dataframe\">\n",
       "  <thead>\n",
       "    <tr style=\"text-align: right;\">\n",
       "      <th></th>\n",
       "      <th>tpep_pickup_datetime</th>\n",
       "      <th>tpep_dropoff_datetime</th>\n",
       "      <th>PULocationID</th>\n",
       "      <th>Trip Duration</th>\n",
       "      <th>Trip Duration Sec</th>\n",
       "      <th>Trip Duration Num</th>\n",
       "    </tr>\n",
       "  </thead>\n",
       "  <tbody>\n",
       "    <tr>\n",
       "      <th>0</th>\n",
       "      <td>2018-01-01 00:21:05</td>\n",
       "      <td>2018-01-01 00:24:23</td>\n",
       "      <td>41</td>\n",
       "      <td>00:03:18</td>\n",
       "      <td>198.0</td>\n",
       "      <td>198</td>\n",
       "    </tr>\n",
       "    <tr>\n",
       "      <th>1</th>\n",
       "      <td>2018-01-01 00:44:55</td>\n",
       "      <td>2018-01-01 01:03:05</td>\n",
       "      <td>239</td>\n",
       "      <td>00:18:10</td>\n",
       "      <td>1090.0</td>\n",
       "      <td>1090</td>\n",
       "    </tr>\n",
       "    <tr>\n",
       "      <th>2</th>\n",
       "      <td>2018-01-01 00:08:26</td>\n",
       "      <td>2018-01-01 00:14:21</td>\n",
       "      <td>262</td>\n",
       "      <td>00:05:55</td>\n",
       "      <td>355.0</td>\n",
       "      <td>355</td>\n",
       "    </tr>\n",
       "    <tr>\n",
       "      <th>3</th>\n",
       "      <td>2018-01-01 00:20:22</td>\n",
       "      <td>2018-01-01 00:52:51</td>\n",
       "      <td>140</td>\n",
       "      <td>00:32:29</td>\n",
       "      <td>1949.0</td>\n",
       "      <td>1949</td>\n",
       "    </tr>\n",
       "    <tr>\n",
       "      <th>4</th>\n",
       "      <td>2018-01-01 00:09:18</td>\n",
       "      <td>2018-01-01 00:27:06</td>\n",
       "      <td>246</td>\n",
       "      <td>00:17:48</td>\n",
       "      <td>1068.0</td>\n",
       "      <td>1068</td>\n",
       "    </tr>\n",
       "  </tbody>\n",
       "</table>\n",
       "</div>"
      ],
      "text/plain": [
       "  tpep_pickup_datetime tpep_dropoff_datetime  PULocationID Trip Duration  \\\n",
       "0  2018-01-01 00:21:05   2018-01-01 00:24:23            41      00:03:18   \n",
       "1  2018-01-01 00:44:55   2018-01-01 01:03:05           239      00:18:10   \n",
       "2  2018-01-01 00:08:26   2018-01-01 00:14:21           262      00:05:55   \n",
       "3  2018-01-01 00:20:22   2018-01-01 00:52:51           140      00:32:29   \n",
       "4  2018-01-01 00:09:18   2018-01-01 00:27:06           246      00:17:48   \n",
       "\n",
       "   Trip Duration Sec  Trip Duration Num  \n",
       "0              198.0                198  \n",
       "1             1090.0               1090  \n",
       "2              355.0                355  \n",
       "3             1949.0               1949  \n",
       "4             1068.0               1068  "
      ]
     },
     "execution_count": 16,
     "metadata": {},
     "output_type": "execute_result"
    }
   ],
   "source": [
    "# Does everything looks normal?\n",
    "RQ3.head()"
   ]
  },
  {
   "cell_type": "code",
   "execution_count": 17,
   "metadata": {},
   "outputs": [
    {
     "data": {
      "text/html": [
       "<div>\n",
       "<style scoped>\n",
       "    .dataframe tbody tr th:only-of-type {\n",
       "        vertical-align: middle;\n",
       "    }\n",
       "\n",
       "    .dataframe tbody tr th {\n",
       "        vertical-align: top;\n",
       "    }\n",
       "\n",
       "    .dataframe thead th {\n",
       "        text-align: right;\n",
       "    }\n",
       "</style>\n",
       "<table border=\"1\" class=\"dataframe\">\n",
       "  <thead>\n",
       "    <tr style=\"text-align: right;\">\n",
       "      <th></th>\n",
       "      <th>PULocationID</th>\n",
       "      <th>Trip Duration</th>\n",
       "      <th>Trip Duration Sec</th>\n",
       "      <th>Trip Duration Num</th>\n",
       "    </tr>\n",
       "  </thead>\n",
       "  <tbody>\n",
       "    <tr>\n",
       "      <th>count</th>\n",
       "      <td>4.617839e+07</td>\n",
       "      <td>46178390</td>\n",
       "      <td>4.617839e+07</td>\n",
       "      <td>4.617839e+07</td>\n",
       "    </tr>\n",
       "    <tr>\n",
       "      <th>mean</th>\n",
       "      <td>1.630845e+02</td>\n",
       "      <td>0 days 00:14:13.965415</td>\n",
       "      <td>8.539654e+02</td>\n",
       "      <td>8.539654e+02</td>\n",
       "    </tr>\n",
       "    <tr>\n",
       "      <th>std</th>\n",
       "      <td>6.651919e+01</td>\n",
       "      <td>0 days 00:11:36.429721</td>\n",
       "      <td>6.964297e+02</td>\n",
       "      <td>6.964297e+02</td>\n",
       "    </tr>\n",
       "    <tr>\n",
       "      <th>min</th>\n",
       "      <td>1.000000e+00</td>\n",
       "      <td>0 days 00:01:01</td>\n",
       "      <td>6.100000e+01</td>\n",
       "      <td>6.100000e+01</td>\n",
       "    </tr>\n",
       "    <tr>\n",
       "      <th>25%</th>\n",
       "      <td>1.140000e+02</td>\n",
       "      <td>0 days 00:06:36</td>\n",
       "      <td>3.960000e+02</td>\n",
       "      <td>3.960000e+02</td>\n",
       "    </tr>\n",
       "    <tr>\n",
       "      <th>50%</th>\n",
       "      <td>1.620000e+02</td>\n",
       "      <td>0 days 00:11:00</td>\n",
       "      <td>6.600000e+02</td>\n",
       "      <td>6.600000e+02</td>\n",
       "    </tr>\n",
       "    <tr>\n",
       "      <th>75%</th>\n",
       "      <td>2.330000e+02</td>\n",
       "      <td>0 days 00:18:02</td>\n",
       "      <td>1.082000e+03</td>\n",
       "      <td>1.082000e+03</td>\n",
       "    </tr>\n",
       "    <tr>\n",
       "      <th>max</th>\n",
       "      <td>2.650000e+02</td>\n",
       "      <td>0 days 03:59:53</td>\n",
       "      <td>1.439300e+04</td>\n",
       "      <td>1.439300e+04</td>\n",
       "    </tr>\n",
       "  </tbody>\n",
       "</table>\n",
       "</div>"
      ],
      "text/plain": [
       "       PULocationID           Trip Duration  Trip Duration Sec  \\\n",
       "count  4.617839e+07                46178390       4.617839e+07   \n",
       "mean   1.630845e+02  0 days 00:14:13.965415       8.539654e+02   \n",
       "std    6.651919e+01  0 days 00:11:36.429721       6.964297e+02   \n",
       "min    1.000000e+00         0 days 00:01:01       6.100000e+01   \n",
       "25%    1.140000e+02         0 days 00:06:36       3.960000e+02   \n",
       "50%    1.620000e+02         0 days 00:11:00       6.600000e+02   \n",
       "75%    2.330000e+02         0 days 00:18:02       1.082000e+03   \n",
       "max    2.650000e+02         0 days 03:59:53       1.439300e+04   \n",
       "\n",
       "       Trip Duration Num  \n",
       "count       4.617839e+07  \n",
       "mean        8.539654e+02  \n",
       "std         6.964297e+02  \n",
       "min         6.100000e+01  \n",
       "25%         3.960000e+02  \n",
       "50%         6.600000e+02  \n",
       "75%         1.082000e+03  \n",
       "max         1.439300e+04  "
      ]
     },
     "execution_count": 17,
     "metadata": {},
     "output_type": "execute_result"
    }
   ],
   "source": [
    "RQ3.describe()"
   ]
  },
  {
   "cell_type": "markdown",
   "metadata": {},
   "source": [
    "Now we are ready to graph the distribution of trip's duration"
   ]
  },
  {
   "cell_type": "code",
   "execution_count": 22,
   "metadata": {},
   "outputs": [
    {
     "data": {
      "text/plain": [
       "<matplotlib.axes._subplots.AxesSubplot at 0x2276cf5ffd0>"
      ]
     },
     "execution_count": 22,
     "metadata": {},
     "output_type": "execute_result"
    },
    {
     "data": {
      "image/png": "[encoded data removed]",
      "text/plain": [
       "<Figure size 432x288 with 1 Axes>"
      ]
     },
     "metadata": {},
     "output_type": "display_data"
    }
   ],
   "source": [
    "RQ3['Trip Duration Num'].plot(kind='hist', title=\"Trip Duration Distribution overall New York\")"
   ]
  },
  {
   "cell_type": "code",
   "execution_count": 34,
   "metadata": {},
   "outputs": [
    {
     "data": {
      "text/plain": [
       "count    4.617839e+07\n",
       "mean     8.539654e+02\n",
       "std      6.964297e+02\n",
       "min      6.100000e+01\n",
       "25%      3.960000e+02\n",
       "50%      6.600000e+02\n",
       "75%      1.082000e+03\n",
       "max      1.439300e+04\n",
       "Name: Trip Duration Num, dtype: float64"
      ]
     },
     "execution_count": 34,
     "metadata": {},
     "output_type": "execute_result"
    }
   ],
   "source": [
    "RQ3['Trip Duration Num'].describe()"
   ]
  },
  {
   "cell_type": "markdown",
   "metadata": {},
   "source": [
    "Looking at the plot we can see that almost every trip is concentrate in 2.000 seconds or less (30 minutes or less). This result makes sense, because is expected that a taxi trip last around 30 minutes, we can see that we have outsiders of trips that lasts one hour or three, but as we expected is not the average behavior. \n",
    "\n",
    "In order to extend the analysis to each borough, we need to import the \"taxi_zone_lookup\" database, and merge it with our current data base. We are going to merge it by the variable PULocationID in order to be consistent with the previous exercises."
   ]
  },
  {
   "cell_type": "code",
   "execution_count": 19,
   "metadata": {},
   "outputs": [],
   "source": [
    "# Import the taxi_zone_lookup data base\n",
    "taxi_zone_data = pd.read_csv('taxi_zone_lookup.csv')\n",
    "# Rename PULocationID\n",
    "RQ3 = RQ3.rename(columns={'PULocationID': 'LocationID'})\n",
    "# Merge the data bases\n",
    "RQ3 = pd.merge(RQ3, taxi_zone_data, on=\"LocationID\")\n",
    "# Select only the columns of interest\n",
    "cols_of_interest = [\"Trip Duration Num\",'Borough']\n",
    "RQ3 = RQ3[cols_of_interest]"
   ]
  },
  {
   "cell_type": "markdown",
   "metadata": {},
   "source": [
    "Following, it exposed, the plots of the distribution of trip's duration for each borough."
   ]
  },
  {
   "cell_type": "code",
   "execution_count": 21,
   "metadata": {},
   "outputs": [
    {
     "data": {
      "text/plain": [
       "<matplotlib.axes._subplots.AxesSubplot at 0x2274ec32ac8>"
      ]
     },
     "execution_count": 21,
     "metadata": {},
     "output_type": "execute_result"
    },
    {
     "data": {
      "image/png": "[encoded data removed]",
      "text/plain": [
       "<Figure size 432x288 with 1 Axes>"
      ]
     },
     "metadata": {},
     "output_type": "display_data"
    }
   ],
   "source": [
    "Manhattan = RQ3[RQ3['Borough'].isin([\"Manhattan\"])]\n",
    "Manhattan['Trip Duration Num'].plot(kind=\"hist\", title=\"Trip Duration Distribution for Manhattan\")"
   ]
  },
  {
   "cell_type": "code",
   "execution_count": 28,
   "metadata": {},
   "outputs": [
    {
     "data": {
      "text/plain": [
       "count    4.201973e+07\n",
       "mean     7.746417e+02\n",
       "std      5.785484e+02\n",
       "min      6.100000e+01\n",
       "25%      3.840000e+02\n",
       "50%      6.290000e+02\n",
       "75%      9.980000e+02\n",
       "max      1.439300e+04\n",
       "Name: Trip Duration Num, dtype: float64"
      ]
     },
     "execution_count": 28,
     "metadata": {},
     "output_type": "execute_result"
    }
   ],
   "source": [
    "Manhattan['Trip Duration Num'].describe()"
   ]
  },
  {
   "cell_type": "code",
   "execution_count": 23,
   "metadata": {},
   "outputs": [
    {
     "data": {
      "text/plain": [
       "<matplotlib.axes._subplots.AxesSubplot at 0x2276ad1ad68>"
      ]
     },
     "execution_count": 23,
     "metadata": {},
     "output_type": "execute_result"
    },
    {
     "data": {
      "image/png": "[encoded data removed]",
      "text/plain": [
       "<Figure size 432x288 with 1 Axes>"
      ]
     },
     "metadata": {},
     "output_type": "display_data"
    }
   ],
   "source": [
    "Bronx = RQ3[RQ3['Borough'].isin([\"Bronx\"])]\n",
    "Bronx['Trip Duration Num'].plot(kind=\"hist\", title=\"Trip Duration Distribution for Bronx\")"
   ]
  },
  {
   "cell_type": "code",
   "execution_count": 29,
   "metadata": {},
   "outputs": [
    {
     "data": {
      "text/plain": [
       "count    46595.000000\n",
       "mean      1180.920120\n",
       "std       1034.146307\n",
       "min         61.000000\n",
       "25%        472.000000\n",
       "50%        870.000000\n",
       "75%       1558.000000\n",
       "max      13980.000000\n",
       "Name: Trip Duration Num, dtype: float64"
      ]
     },
     "execution_count": 29,
     "metadata": {},
     "output_type": "execute_result"
    }
   ],
   "source": [
    "Bronx['Trip Duration Num'].describe()"
   ]
  },
  {
   "cell_type": "code",
   "execution_count": 24,
   "metadata": {},
   "outputs": [
    {
     "data": {
      "text/plain": [
       "<matplotlib.axes._subplots.AxesSubplot at 0x227792c8a58>"
      ]
     },
     "execution_count": 24,
     "metadata": {},
     "output_type": "execute_result"
    },
    {
     "data": {
      "image/png": "[encoded data removed]",
      "text/plain": [
       "<Figure size 432x288 with 1 Axes>"
      ]
     },
     "metadata": {},
     "output_type": "display_data"
    }
   ],
   "source": [
    "Brooklyn = RQ3[RQ3['Borough'].isin([\"Brooklyn\"])]\n",
    "Brooklyn['Trip Duration Num'].plot(kind=\"hist\", title=\"Trip Duration Distribution for Brooklyn\")"
   ]
  },
  {
   "cell_type": "code",
   "execution_count": 30,
   "metadata": {},
   "outputs": [
    {
     "data": {
      "text/plain": [
       "count    589488.000000\n",
       "mean        930.331201\n",
       "std         718.226217\n",
       "min          61.000000\n",
       "25%         425.000000\n",
       "50%         750.000000\n",
       "75%        1220.000000\n",
       "max       13259.000000\n",
       "Name: Trip Duration Num, dtype: float64"
      ]
     },
     "execution_count": 30,
     "metadata": {},
     "output_type": "execute_result"
    }
   ],
   "source": [
    "Brooklyn['Trip Duration Num'].describe()"
   ]
  },
  {
   "cell_type": "code",
   "execution_count": 25,
   "metadata": {},
   "outputs": [
    {
     "data": {
      "text/plain": [
       "<matplotlib.axes._subplots.AxesSubplot at 0x2276fdd78d0>"
      ]
     },
     "execution_count": 25,
     "metadata": {},
     "output_type": "execute_result"
    },
    {
     "data": {
      "image/png": "[encoded data removed]",
      "text/plain": [
       "<Figure size 432x288 with 1 Axes>"
      ]
     },
     "metadata": {},
     "output_type": "display_data"
    }
   ],
   "source": [
    "EWR = RQ3[RQ3['Borough'].isin([\"EWR\"])]\n",
    "EWR['Trip Duration Num'].plot(kind=\"hist\", title=\"Trip Duration Distribution for EWR\")"
   ]
  },
  {
   "cell_type": "code",
   "execution_count": 31,
   "metadata": {
    "scrolled": true
   },
   "outputs": [
    {
     "data": {
      "text/plain": [
       "count      576.000000\n",
       "mean       856.979167\n",
       "std       1473.642761\n",
       "min         61.000000\n",
       "25%         83.000000\n",
       "50%        135.000000\n",
       "75%       1054.500000\n",
       "max      10892.000000\n",
       "Name: Trip Duration Num, dtype: float64"
      ]
     },
     "execution_count": 31,
     "metadata": {},
     "output_type": "execute_result"
    }
   ],
   "source": [
    "EWR['Trip Duration Num'].describe()"
   ]
  },
  {
   "cell_type": "code",
   "execution_count": 26,
   "metadata": {},
   "outputs": [
    {
     "data": {
      "text/plain": [
       "<matplotlib.axes._subplots.AxesSubplot at 0x2274243ebe0>"
      ]
     },
     "execution_count": 26,
     "metadata": {},
     "output_type": "execute_result"
    },
    {
     "data": {
      "image/png": "[encoded data removed]",
      "text/plain": [
       "<Figure size 432x288 with 1 Axes>"
      ]
     },
     "metadata": {},
     "output_type": "display_data"
    }
   ],
   "source": [
    "Queens = RQ3[RQ3['Borough'].isin([\"Queens\"])]\n",
    "Queens['Trip Duration Num'].plot(kind=\"hist\", title=\"Trip Duration Distribution for Queens\")"
   ]
  },
  {
   "cell_type": "code",
   "execution_count": 32,
   "metadata": {
    "scrolled": true
   },
   "outputs": [
    {
     "data": {
      "text/plain": [
       "count    2.844495e+06\n",
       "mean     2.008748e+03\n",
       "std      1.123303e+03\n",
       "min      6.100000e+01\n",
       "25%      1.214000e+03\n",
       "50%      1.881000e+03\n",
       "75%      2.665000e+03\n",
       "max      1.437900e+04\n",
       "Name: Trip Duration Num, dtype: float64"
      ]
     },
     "execution_count": 32,
     "metadata": {},
     "output_type": "execute_result"
    }
   ],
   "source": [
    "Queens['Trip Duration Num'].describe()"
   ]
  },
  {
   "cell_type": "code",
   "execution_count": 27,
   "metadata": {
    "scrolled": true
   },
   "outputs": [
    {
     "data": {
      "text/plain": [
       "<matplotlib.axes._subplots.AxesSubplot at 0x22776900c18>"
      ]
     },
     "execution_count": 27,
     "metadata": {},
     "output_type": "execute_result"
    },
    {
     "data": {
      "image/png": "[encoded data removed]",
      "text/plain": [
       "<Figure size 432x288 with 1 Axes>"
      ]
     },
     "metadata": {},
     "output_type": "display_data"
    }
   ],
   "source": [
    "Staten_Island = RQ3[RQ3['Borough'].isin([\"Staten Island\"])]\n",
    "Staten_Island['Trip Duration Num'].plot(kind=\"hist\", title=\"Trip Duration Distribution for Staten Island\")"
   ]
  },
  {
   "cell_type": "code",
   "execution_count": 33,
   "metadata": {
    "scrolled": true
   },
   "outputs": [
    {
     "data": {
      "text/plain": [
       "count      444.000000\n",
       "mean      1740.281532\n",
       "std       1650.796698\n",
       "min         61.000000\n",
       "25%        498.250000\n",
       "50%       1201.500000\n",
       "75%       2575.750000\n",
       "max      11990.000000\n",
       "Name: Trip Duration Num, dtype: float64"
      ]
     },
     "execution_count": 33,
     "metadata": {},
     "output_type": "execute_result"
    }
   ],
   "source": [
    "Staten_Island['Trip Duration Num'].describe()"
   ]
  },
  {
   "cell_type": "markdown",
   "metadata": {},
   "source": [
    "The distribution of Manhattan looks a lot like the overall New York, probably because most of the trips are from New York, the mean is 774 second = 13 minutes and we can see on the plot that almost all the trips last less than 2.000 seconds = 33 minutes. \n",
    "\n",
    "All other boroughs, which are not Manhattan, have more frequent on longer trips. This makes sense because most of the yellow taxis travel from Manhattan, so with high probability a yellow taxi that is taken in another borough, goes to Manhattan, which translates into longer trips than those that are made only within from Manhattan. \n",
    "\n",
    "The other boroughs, also have the factor that being farther from Manhattan, are more sensitive to traffic and the different roads that taxis can be taken, thus explaining the greater variability that other neighborhoods have, comparing them with Manhattan and there for with the whole distribution."
   ]
  },
  {
   "cell_type": "markdown",
   "metadata": {},
   "source": [
    "#### RQ4. What is the most common way of payments? Discover the way payments are executed in each borough and visualize the number of payments for any possible means. Then run the Chi-squared test to see whether the method of payment is correlated to the borough. Then, comment the results."
   ]
  },
  {
   "cell_type": "code",
   "execution_count": null,
   "metadata": {},
   "outputs": [],
   "source": []
  },
  {
   "cell_type": "markdown",
   "metadata": {},
   "source": [
    "#### RQ5. Does a long distance correlate with the duration of the trip on average? Make a plot that show the dependence between distance and duration of the trip. Then compute the Pearson Coefficient, is it significant? Comment the results you obtain."
   ]
  },
  {
   "cell_type": "code",
   "execution_count": 1,
   "metadata": {},
   "outputs": [],
   "source": [
    "# Import libabries\n",
    "import pandas as pd\n",
    "import matplotlib.pyplot as plt\n",
    "%matplotlib inline\n",
    "import numpy as np"
   ]
  },
  {
   "cell_type": "code",
   "execution_count": 2,
   "metadata": {},
   "outputs": [],
   "source": [
    "# Import all the data bases and select only the columns that I need for the exercise\n",
    "cols_of_interest = ['trip_distance', 'Trip Duration', \"Trip Duration Num\"]"
   ]
  },
  {
   "cell_type": "code",
   "execution_count": 3,
   "metadata": {},
   "outputs": [],
   "source": [
    "jan = pd.read_csv('01jan.csv')\n",
    "jan = jan[cols_of_interest]"
   ]
  },
  {
   "cell_type": "code",
   "execution_count": 4,
   "metadata": {},
   "outputs": [],
   "source": [
    "feb = pd.read_csv('02feb.csv')\n",
    "feb = feb[cols_of_interest]"
   ]
  },
  {
   "cell_type": "code",
   "execution_count": 5,
   "metadata": {},
   "outputs": [],
   "source": [
    "mar = pd.read_csv('03mar.csv')\n",
    "mar = mar[cols_of_interest]"
   ]
  },
  {
   "cell_type": "code",
   "execution_count": 6,
   "metadata": {},
   "outputs": [],
   "source": [
    "apr = pd.read_csv('04apr.csv')\n",
    "apr = apr[cols_of_interest]"
   ]
  },
  {
   "cell_type": "code",
   "execution_count": 7,
   "metadata": {},
   "outputs": [],
   "source": [
    "may = pd.read_csv('05may.csv')\n",
    "may = may[cols_of_interest]"
   ]
  },
  {
   "cell_type": "code",
   "execution_count": 8,
   "metadata": {},
   "outputs": [],
   "source": [
    "jun = pd.read_csv('06jun.csv')\n",
    "jun  = jun[cols_of_interest]"
   ]
  },
  {
   "cell_type": "code",
   "execution_count": 10,
   "metadata": {},
   "outputs": [],
   "source": [
    "# Concatenate all this data bases in one\n",
    "frames = [jan, feb, mar, apr, may, jun]\n",
    "RQ5 = pd.concat(frames)"
   ]
  },
  {
   "cell_type": "code",
   "execution_count": 11,
   "metadata": {},
   "outputs": [
    {
     "data": {
      "text/html": [
       "<div>\n",
       "<style scoped>\n",
       "    .dataframe tbody tr th:only-of-type {\n",
       "        vertical-align: middle;\n",
       "    }\n",
       "\n",
       "    .dataframe tbody tr th {\n",
       "        vertical-align: top;\n",
       "    }\n",
       "\n",
       "    .dataframe thead th {\n",
       "        text-align: right;\n",
       "    }\n",
       "</style>\n",
       "<table border=\"1\" class=\"dataframe\">\n",
       "  <thead>\n",
       "    <tr style=\"text-align: right;\">\n",
       "      <th></th>\n",
       "      <th>trip_distance</th>\n",
       "      <th>Trip Duration</th>\n",
       "      <th>Trip Duration Num</th>\n",
       "    </tr>\n",
       "  </thead>\n",
       "  <tbody>\n",
       "    <tr>\n",
       "      <th>0</th>\n",
       "      <td>0.5</td>\n",
       "      <td>0 days 00:03:18.000000000</td>\n",
       "      <td>198</td>\n",
       "    </tr>\n",
       "    <tr>\n",
       "      <th>1</th>\n",
       "      <td>2.7</td>\n",
       "      <td>0 days 00:18:10.000000000</td>\n",
       "      <td>1090</td>\n",
       "    </tr>\n",
       "    <tr>\n",
       "      <th>2</th>\n",
       "      <td>0.8</td>\n",
       "      <td>0 days 00:05:55.000000000</td>\n",
       "      <td>355</td>\n",
       "    </tr>\n",
       "    <tr>\n",
       "      <th>3</th>\n",
       "      <td>10.2</td>\n",
       "      <td>0 days 00:32:29.000000000</td>\n",
       "      <td>1949</td>\n",
       "    </tr>\n",
       "    <tr>\n",
       "      <th>4</th>\n",
       "      <td>2.5</td>\n",
       "      <td>0 days 00:17:48.000000000</td>\n",
       "      <td>1068</td>\n",
       "    </tr>\n",
       "  </tbody>\n",
       "</table>\n",
       "</div>"
      ],
      "text/plain": [
       "   trip_distance              Trip Duration  Trip Duration Num\n",
       "0            0.5  0 days 00:03:18.000000000                198\n",
       "1            2.7  0 days 00:18:10.000000000               1090\n",
       "2            0.8  0 days 00:05:55.000000000                355\n",
       "3           10.2  0 days 00:32:29.000000000               1949\n",
       "4            2.5  0 days 00:17:48.000000000               1068"
      ]
     },
     "execution_count": 11,
     "metadata": {},
     "output_type": "execute_result"
    }
   ],
   "source": [
    "# Does everything looks normal?\n",
    "RQ5.head()"
   ]
  },
  {
   "cell_type": "code",
   "execution_count": 12,
   "metadata": {},
   "outputs": [
    {
     "data": {
      "text/html": [
       "<div>\n",
       "<style scoped>\n",
       "    .dataframe tbody tr th:only-of-type {\n",
       "        vertical-align: middle;\n",
       "    }\n",
       "\n",
       "    .dataframe tbody tr th {\n",
       "        vertical-align: top;\n",
       "    }\n",
       "\n",
       "    .dataframe thead th {\n",
       "        text-align: right;\n",
       "    }\n",
       "</style>\n",
       "<table border=\"1\" class=\"dataframe\">\n",
       "  <thead>\n",
       "    <tr style=\"text-align: right;\">\n",
       "      <th></th>\n",
       "      <th>trip_distance</th>\n",
       "      <th>Trip Duration Num</th>\n",
       "    </tr>\n",
       "  </thead>\n",
       "  <tbody>\n",
       "    <tr>\n",
       "      <th>count</th>\n",
       "      <td>4.612010e+07</td>\n",
       "      <td>4.617839e+07</td>\n",
       "    </tr>\n",
       "    <tr>\n",
       "      <th>mean</th>\n",
       "      <td>2.940129e+00</td>\n",
       "      <td>8.539654e+02</td>\n",
       "    </tr>\n",
       "    <tr>\n",
       "      <th>std</th>\n",
       "      <td>3.765704e+00</td>\n",
       "      <td>6.964297e+02</td>\n",
       "    </tr>\n",
       "    <tr>\n",
       "      <th>min</th>\n",
       "      <td>0.000000e+00</td>\n",
       "      <td>6.100000e+01</td>\n",
       "    </tr>\n",
       "    <tr>\n",
       "      <th>25%</th>\n",
       "      <td>9.900000e-01</td>\n",
       "      <td>3.960000e+02</td>\n",
       "    </tr>\n",
       "    <tr>\n",
       "      <th>50%</th>\n",
       "      <td>1.610000e+00</td>\n",
       "      <td>6.600000e+02</td>\n",
       "    </tr>\n",
       "    <tr>\n",
       "      <th>75%</th>\n",
       "      <td>3.000000e+00</td>\n",
       "      <td>1.082000e+03</td>\n",
       "    </tr>\n",
       "    <tr>\n",
       "      <th>max</th>\n",
       "      <td>1.061200e+03</td>\n",
       "      <td>1.439300e+04</td>\n",
       "    </tr>\n",
       "  </tbody>\n",
       "</table>\n",
       "</div>"
      ],
      "text/plain": [
       "       trip_distance  Trip Duration Num\n",
       "count   4.612010e+07       4.617839e+07\n",
       "mean    2.940129e+00       8.539654e+02\n",
       "std     3.765704e+00       6.964297e+02\n",
       "min     0.000000e+00       6.100000e+01\n",
       "25%     9.900000e-01       3.960000e+02\n",
       "50%     1.610000e+00       6.600000e+02\n",
       "75%     3.000000e+00       1.082000e+03\n",
       "max     1.061200e+03       1.439300e+04"
      ]
     },
     "execution_count": 12,
     "metadata": {},
     "output_type": "execute_result"
    }
   ],
   "source": [
    "RQ5.describe()"
   ]
  },
  {
   "cell_type": "markdown",
   "metadata": {},
   "source": [
    "As we can see, we have some trip_distance = 0 values, that do not make sense, we assume they are errors,  to avoid problems in the calculations we are going to transform them into NaN values."
   ]
  },
  {
   "cell_type": "code",
   "execution_count": 13,
   "metadata": {},
   "outputs": [],
   "source": [
    "RQ5[\"trip_distance\"] = RQ5[\"trip_distance\"].replace({0:np.nan})"
   ]
  },
  {
   "cell_type": "code",
   "execution_count": 14,
   "metadata": {},
   "outputs": [
    {
     "data": {
      "text/html": [
       "<div>\n",
       "<style scoped>\n",
       "    .dataframe tbody tr th:only-of-type {\n",
       "        vertical-align: middle;\n",
       "    }\n",
       "\n",
       "    .dataframe tbody tr th {\n",
       "        vertical-align: top;\n",
       "    }\n",
       "\n",
       "    .dataframe thead th {\n",
       "        text-align: right;\n",
       "    }\n",
       "</style>\n",
       "<table border=\"1\" class=\"dataframe\">\n",
       "  <thead>\n",
       "    <tr style=\"text-align: right;\">\n",
       "      <th></th>\n",
       "      <th>trip_distance</th>\n",
       "      <th>Trip Duration Num</th>\n",
       "    </tr>\n",
       "  </thead>\n",
       "  <tbody>\n",
       "    <tr>\n",
       "      <th>count</th>\n",
       "      <td>4.611799e+07</td>\n",
       "      <td>4.617839e+07</td>\n",
       "    </tr>\n",
       "    <tr>\n",
       "      <th>mean</th>\n",
       "      <td>2.940263e+00</td>\n",
       "      <td>8.539654e+02</td>\n",
       "    </tr>\n",
       "    <tr>\n",
       "      <th>std</th>\n",
       "      <td>3.765738e+00</td>\n",
       "      <td>6.964297e+02</td>\n",
       "    </tr>\n",
       "    <tr>\n",
       "      <th>min</th>\n",
       "      <td>1.000000e-02</td>\n",
       "      <td>6.100000e+01</td>\n",
       "    </tr>\n",
       "    <tr>\n",
       "      <th>25%</th>\n",
       "      <td>9.900000e-01</td>\n",
       "      <td>3.960000e+02</td>\n",
       "    </tr>\n",
       "    <tr>\n",
       "      <th>50%</th>\n",
       "      <td>1.610000e+00</td>\n",
       "      <td>6.600000e+02</td>\n",
       "    </tr>\n",
       "    <tr>\n",
       "      <th>75%</th>\n",
       "      <td>3.000000e+00</td>\n",
       "      <td>1.082000e+03</td>\n",
       "    </tr>\n",
       "    <tr>\n",
       "      <th>max</th>\n",
       "      <td>1.061200e+03</td>\n",
       "      <td>1.439300e+04</td>\n",
       "    </tr>\n",
       "  </tbody>\n",
       "</table>\n",
       "</div>"
      ],
      "text/plain": [
       "       trip_distance  Trip Duration Num\n",
       "count   4.611799e+07       4.617839e+07\n",
       "mean    2.940263e+00       8.539654e+02\n",
       "std     3.765738e+00       6.964297e+02\n",
       "min     1.000000e-02       6.100000e+01\n",
       "25%     9.900000e-01       3.960000e+02\n",
       "50%     1.610000e+00       6.600000e+02\n",
       "75%     3.000000e+00       1.082000e+03\n",
       "max     1.061200e+03       1.439300e+04"
      ]
     },
     "execution_count": 14,
     "metadata": {},
     "output_type": "execute_result"
    }
   ],
   "source": [
    "# Does everything looks normal?\n",
    "RQ5.describe()"
   ]
  },
  {
   "cell_type": "markdown",
   "metadata": {},
   "source": [
    "Now we are ready to proceed and plot the relationship between the duration and the distance of the trip. "
   ]
  },
  {
   "cell_type": "code",
   "execution_count": 15,
   "metadata": {},
   "outputs": [
    {
     "data": {
      "text/plain": [
       "<matplotlib.axes._subplots.AxesSubplot at 0x2c23e5d16d8>"
      ]
     },
     "execution_count": 15,
     "metadata": {},
     "output_type": "execute_result"
    },
    {
     "data": {
      "image/png": "[encoded data removed]",
      "text/plain": [
       "<Figure size 432x288 with 1 Axes>"
      ]
     },
     "metadata": {},
     "output_type": "display_data"
    }
   ],
   "source": [
    "# Plot of the relationship between duration trip and trip distance\n",
    "RQ5.plot(x='trip_distance', y='Trip Duration Num', kind='scatter')"
   ]
  },
  {
   "cell_type": "markdown",
   "metadata": {},
   "source": [
    "We can see a a subtle trend, but we clearly have some outsiders that do not let us see clearly how most of the data behaves. In order to see in a better way this relationship, we will eliminate the data with distance greater than 200."
   ]
  },
  {
   "cell_type": "code",
   "execution_count": 16,
   "metadata": {},
   "outputs": [],
   "source": [
    "# Drop the rows with distance > 200\n",
    "RQ5 = RQ5[(RQ5[\"trip_distance\"] < 200)]"
   ]
  },
  {
   "cell_type": "code",
   "execution_count": 17,
   "metadata": {},
   "outputs": [
    {
     "data": {
      "text/plain": [
       "<matplotlib.axes._subplots.AxesSubplot at 0x2c2071bbb00>"
      ]
     },
     "execution_count": 17,
     "metadata": {},
     "output_type": "execute_result"
    },
    {
     "data": {
      "image/png": "[encoded data removed]",
      "text/plain": [
       "<Figure size 432x288 with 1 Axes>"
      ]
     },
     "metadata": {},
     "output_type": "display_data"
    }
   ],
   "source": [
    "# Plot of the relationship between duration trip and trip distance, without the outsiders\n",
    "RQ5.plot(x='trip_distance', y='Trip Duration Num', kind='scatter')"
   ]
  },
  {
   "cell_type": "markdown",
   "metadata": {},
   "source": [
    "Now we can see that there is a relationship between long distances and large duration trips as expected. Let's compute the Pearson Coeficient in order to understand better this correlation."
   ]
  },
  {
   "cell_type": "code",
   "execution_count": 18,
   "metadata": {},
   "outputs": [
    {
     "data": {
      "text/html": [
       "<div>\n",
       "<style scoped>\n",
       "    .dataframe tbody tr th:only-of-type {\n",
       "        vertical-align: middle;\n",
       "    }\n",
       "\n",
       "    .dataframe tbody tr th {\n",
       "        vertical-align: top;\n",
       "    }\n",
       "\n",
       "    .dataframe thead th {\n",
       "        text-align: right;\n",
       "    }\n",
       "</style>\n",
       "<table border=\"1\" class=\"dataframe\">\n",
       "  <thead>\n",
       "    <tr style=\"text-align: right;\">\n",
       "      <th></th>\n",
       "      <th>trip_distance</th>\n",
       "      <th>Trip Duration Num</th>\n",
       "    </tr>\n",
       "  </thead>\n",
       "  <tbody>\n",
       "    <tr>\n",
       "      <th>trip_distance</th>\n",
       "      <td>1.000000</td>\n",
       "      <td>0.800506</td>\n",
       "    </tr>\n",
       "    <tr>\n",
       "      <th>Trip Duration Num</th>\n",
       "      <td>0.800506</td>\n",
       "      <td>1.000000</td>\n",
       "    </tr>\n",
       "  </tbody>\n",
       "</table>\n",
       "</div>"
      ],
      "text/plain": [
       "                   trip_distance  Trip Duration Num\n",
       "trip_distance           1.000000           0.800506\n",
       "Trip Duration Num       0.800506           1.000000"
      ]
     },
     "execution_count": 18,
     "metadata": {},
     "output_type": "execute_result"
    }
   ],
   "source": [
    "RQ5.corr(method='pearson', min_periods=1)"
   ]
  },
  {
   "cell_type": "markdown",
   "metadata": {},
   "source": [
    "To put this results in context, let's remember that the coefficient of Pearson Coeficient is a measure of the linear correlation between two variables, which has the following characteristics:\n",
    "* It has a value between +1 and −1\n",
    "* 1 means total positive linear correlation, \n",
    "* 0 means no linear correlation, and\n",
    "* −1 means total negative linear correlation.\n",
    "\n",
    "With this information we can interpret, that the variables trip distance and trip duration have a strong positive linear correlation."
   ]
  },
  {
   "cell_type": "markdown",
   "metadata": {},
   "source": [
    "#### CRQ1. Does the fare for mile change across NY's borough? We want to discover whether the expenses of a user that enjoys Taxis in one zone is different from those that uses it in another one."
   ]
  },
  {
   "cell_type": "code",
   "execution_count": 40,
   "metadata": {},
   "outputs": [],
   "source": [
    "# Import the libraries we are going to use\n",
    "import pandas as pd\n",
    "import matplotlib.pyplot as plt\n",
    "%matplotlib inline\n",
    "import numpy as np\n",
    "from scipy.stats import ttest_ind\n",
    "from itertools import combinations "
   ]
  },
  {
   "cell_type": "code",
   "execution_count": 3,
   "metadata": {},
   "outputs": [],
   "source": [
    "# Select the columns of interest for this exercise\n",
    "cols_of_interest = [\"fare_amount\", \"trip_distance\", \"Trip Duration Num\", \"DOLocationID\", \"PULocationID\"]"
   ]
  },
  {
   "cell_type": "code",
   "execution_count": 4,
   "metadata": {},
   "outputs": [],
   "source": [
    "# Import all the data bases, selecting only the columns of interest\n",
    "jan = pd.read_csv('01jan.csv')\n",
    "jan = jan[cols_of_interest]"
   ]
  },
  {
   "cell_type": "code",
   "execution_count": 5,
   "metadata": {},
   "outputs": [],
   "source": [
    "feb = pd.read_csv('02feb.csv')\n",
    "feb = feb[cols_of_interest]"
   ]
  },
  {
   "cell_type": "code",
   "execution_count": 6,
   "metadata": {},
   "outputs": [],
   "source": [
    "mar = pd.read_csv('03mar.csv')\n",
    "mar = mar[cols_of_interest]"
   ]
  },
  {
   "cell_type": "code",
   "execution_count": 7,
   "metadata": {},
   "outputs": [],
   "source": [
    "apr = pd.read_csv('04apr.csv')\n",
    "apr = apr[cols_of_interest]"
   ]
  },
  {
   "cell_type": "code",
   "execution_count": 8,
   "metadata": {},
   "outputs": [],
   "source": [
    "may = pd.read_csv('05may.csv')\n",
    "may = may[cols_of_interest]"
   ]
  },
  {
   "cell_type": "code",
   "execution_count": 9,
   "metadata": {},
   "outputs": [],
   "source": [
    "jun = pd.read_csv('06jun.csv')\n",
    "jun  = jun[cols_of_interest]"
   ]
  },
  {
   "cell_type": "code",
   "execution_count": 11,
   "metadata": {},
   "outputs": [],
   "source": [
    "# Concatenate them \n",
    "frames = [jan, feb, mar, apr, may, jun]\n",
    "CRQ1 = pd.concat(frames)"
   ]
  },
  {
   "cell_type": "markdown",
   "metadata": {},
   "source": [
    "Now, we are ready to create a new variable: \"price_per_mile\", that consist on the ratio between the \"fare_amount\" and \"trip distance\".\n",
    "Let's remember the definitions of the variables:\n",
    "- fare_amount: the time-and-distance fare calculated by the meter.\n",
    "- trip_distance: the elapsed trip distance in miles reported by the taximeter."
   ]
  },
  {
   "cell_type": "code",
   "execution_count": 12,
   "metadata": {},
   "outputs": [],
   "source": [
    "CRQ1[\"price_per_mile\"] = CRQ1[\"fare_amount\"] / CRQ1['trip_distance']"
   ]
  },
  {
   "cell_type": "markdown",
   "metadata": {},
   "source": [
    "Let's see how our new variable looks like"
   ]
  },
  {
   "cell_type": "code",
   "execution_count": 14,
   "metadata": {},
   "outputs": [
    {
     "data": {
      "text/html": [
       "<div>\n",
       "<style scoped>\n",
       "    .dataframe tbody tr th:only-of-type {\n",
       "        vertical-align: middle;\n",
       "    }\n",
       "\n",
       "    .dataframe tbody tr th {\n",
       "        vertical-align: top;\n",
       "    }\n",
       "\n",
       "    .dataframe thead th {\n",
       "        text-align: right;\n",
       "    }\n",
       "</style>\n",
       "<table border=\"1\" class=\"dataframe\">\n",
       "  <thead>\n",
       "    <tr style=\"text-align: right;\">\n",
       "      <th></th>\n",
       "      <th>fare_amount</th>\n",
       "      <th>trip_distance</th>\n",
       "      <th>Trip Duration Num</th>\n",
       "      <th>DOLocationID</th>\n",
       "      <th>PULocationID</th>\n",
       "      <th>price_per_mile</th>\n",
       "    </tr>\n",
       "  </thead>\n",
       "  <tbody>\n",
       "    <tr>\n",
       "      <th>count</th>\n",
       "      <td>4.617839e+07</td>\n",
       "      <td>4.612010e+07</td>\n",
       "      <td>4.617839e+07</td>\n",
       "      <td>4.617839e+07</td>\n",
       "      <td>4.617839e+07</td>\n",
       "      <td>4.612004e+07</td>\n",
       "    </tr>\n",
       "    <tr>\n",
       "      <th>mean</th>\n",
       "      <td>1.280463e+01</td>\n",
       "      <td>2.940129e+00</td>\n",
       "      <td>8.539654e+02</td>\n",
       "      <td>1.613742e+02</td>\n",
       "      <td>1.630845e+02</td>\n",
       "      <td>NaN</td>\n",
       "    </tr>\n",
       "    <tr>\n",
       "      <th>std</th>\n",
       "      <td>4.464127e+01</td>\n",
       "      <td>3.765704e+00</td>\n",
       "      <td>6.964297e+02</td>\n",
       "      <td>7.038153e+01</td>\n",
       "      <td>6.651919e+01</td>\n",
       "      <td>NaN</td>\n",
       "    </tr>\n",
       "    <tr>\n",
       "      <th>min</th>\n",
       "      <td>-4.850000e+02</td>\n",
       "      <td>0.000000e+00</td>\n",
       "      <td>6.100000e+01</td>\n",
       "      <td>1.000000e+00</td>\n",
       "      <td>1.000000e+00</td>\n",
       "      <td>-inf</td>\n",
       "    </tr>\n",
       "    <tr>\n",
       "      <th>25%</th>\n",
       "      <td>6.500000e+00</td>\n",
       "      <td>9.900000e-01</td>\n",
       "      <td>3.960000e+02</td>\n",
       "      <td>1.070000e+02</td>\n",
       "      <td>1.140000e+02</td>\n",
       "      <td>4.324324e+00</td>\n",
       "    </tr>\n",
       "    <tr>\n",
       "      <th>50%</th>\n",
       "      <td>9.000000e+00</td>\n",
       "      <td>1.610000e+00</td>\n",
       "      <td>6.600000e+02</td>\n",
       "      <td>1.620000e+02</td>\n",
       "      <td>1.620000e+02</td>\n",
       "      <td>5.500000e+00</td>\n",
       "    </tr>\n",
       "    <tr>\n",
       "      <th>75%</th>\n",
       "      <td>1.450000e+01</td>\n",
       "      <td>3.000000e+00</td>\n",
       "      <td>1.082000e+03</td>\n",
       "      <td>2.330000e+02</td>\n",
       "      <td>2.330000e+02</td>\n",
       "      <td>7.000000e+00</td>\n",
       "    </tr>\n",
       "    <tr>\n",
       "      <th>max</th>\n",
       "      <td>2.147484e+05</td>\n",
       "      <td>1.061200e+03</td>\n",
       "      <td>1.439300e+04</td>\n",
       "      <td>2.650000e+02</td>\n",
       "      <td>2.650000e+02</td>\n",
       "      <td>inf</td>\n",
       "    </tr>\n",
       "  </tbody>\n",
       "</table>\n",
       "</div>"
      ],
      "text/plain": [
       "        fare_amount  trip_distance  Trip Duration Num  DOLocationID  \\\n",
       "count  4.617839e+07   4.612010e+07       4.617839e+07  4.617839e+07   \n",
       "mean   1.280463e+01   2.940129e+00       8.539654e+02  1.613742e+02   \n",
       "std    4.464127e+01   3.765704e+00       6.964297e+02  7.038153e+01   \n",
       "min   -4.850000e+02   0.000000e+00       6.100000e+01  1.000000e+00   \n",
       "25%    6.500000e+00   9.900000e-01       3.960000e+02  1.070000e+02   \n",
       "50%    9.000000e+00   1.610000e+00       6.600000e+02  1.620000e+02   \n",
       "75%    1.450000e+01   3.000000e+00       1.082000e+03  2.330000e+02   \n",
       "max    2.147484e+05   1.061200e+03       1.439300e+04  2.650000e+02   \n",
       "\n",
       "       PULocationID  price_per_mile  \n",
       "count  4.617839e+07    4.612004e+07  \n",
       "mean   1.630845e+02             NaN  \n",
       "std    6.651919e+01             NaN  \n",
       "min    1.000000e+00            -inf  \n",
       "25%    1.140000e+02    4.324324e+00  \n",
       "50%    1.620000e+02    5.500000e+00  \n",
       "75%    2.330000e+02    7.000000e+00  \n",
       "max    2.650000e+02             inf  "
      ]
     },
     "execution_count": 14,
     "metadata": {},
     "output_type": "execute_result"
    }
   ],
   "source": [
    "CRQ1.describe()"
   ]
  },
  {
   "cell_type": "markdown",
   "metadata": {},
   "source": [
    "We can see appreciate that we did a very bad job cleaning the database in the first part of the homework, but unfortunately we do not have time to start all over again, hereby we will have to decide what to do with the values that do not make sense, at this point."
   ]
  },
  {
   "cell_type": "code",
   "execution_count": 15,
   "metadata": {},
   "outputs": [],
   "source": [
    "# Infinite numbers that not make sense, so we are going to replace them with NaN\n",
    "CRQ1 = CRQ1.replace([np.inf, -np.inf], np.nan)"
   ]
  },
  {
   "cell_type": "code",
   "execution_count": 16,
   "metadata": {},
   "outputs": [],
   "source": [
    "# For simplicity we are going to delete all the null values in the columns of interest\n",
    "CRQ1 = CRQ1[pd.notnull(CRQ1['fare_amount'])]\n",
    "CRQ1 = CRQ1[pd.notnull(CRQ1['trip_distance'])]\n",
    "CRQ1 = CRQ1[pd.notnull(CRQ1['price_per_mile'])]"
   ]
  },
  {
   "cell_type": "code",
   "execution_count": 17,
   "metadata": {
    "scrolled": true
   },
   "outputs": [
    {
     "data": {
      "text/html": [
       "<div>\n",
       "<style scoped>\n",
       "    .dataframe tbody tr th:only-of-type {\n",
       "        vertical-align: middle;\n",
       "    }\n",
       "\n",
       "    .dataframe tbody tr th {\n",
       "        vertical-align: top;\n",
       "    }\n",
       "\n",
       "    .dataframe thead th {\n",
       "        text-align: right;\n",
       "    }\n",
       "</style>\n",
       "<table border=\"1\" class=\"dataframe\">\n",
       "  <thead>\n",
       "    <tr style=\"text-align: right;\">\n",
       "      <th></th>\n",
       "      <th>fare_amount</th>\n",
       "      <th>trip_distance</th>\n",
       "      <th>Trip Duration Num</th>\n",
       "      <th>DOLocationID</th>\n",
       "      <th>PULocationID</th>\n",
       "      <th>price_per_mile</th>\n",
       "    </tr>\n",
       "  </thead>\n",
       "  <tbody>\n",
       "    <tr>\n",
       "      <th>count</th>\n",
       "      <td>4.611799e+07</td>\n",
       "      <td>4.611799e+07</td>\n",
       "      <td>4.611799e+07</td>\n",
       "      <td>4.611799e+07</td>\n",
       "      <td>4.611799e+07</td>\n",
       "      <td>4.611799e+07</td>\n",
       "    </tr>\n",
       "    <tr>\n",
       "      <th>mean</th>\n",
       "      <td>1.280126e+01</td>\n",
       "      <td>2.940263e+00</td>\n",
       "      <td>8.543924e+02</td>\n",
       "      <td>1.613685e+02</td>\n",
       "      <td>1.630773e+02</td>\n",
       "      <td>6.187190e+00</td>\n",
       "    </tr>\n",
       "    <tr>\n",
       "      <th>std</th>\n",
       "      <td>4.464903e+01</td>\n",
       "      <td>3.765738e+00</td>\n",
       "      <td>6.954279e+02</td>\n",
       "      <td>7.038169e+01</td>\n",
       "      <td>6.651453e+01</td>\n",
       "      <td>5.183960e+01</td>\n",
       "    </tr>\n",
       "    <tr>\n",
       "      <th>min</th>\n",
       "      <td>-4.850000e+02</td>\n",
       "      <td>1.000000e-02</td>\n",
       "      <td>6.100000e+01</td>\n",
       "      <td>1.000000e+00</td>\n",
       "      <td>1.000000e+00</td>\n",
       "      <td>-4.850000e+04</td>\n",
       "    </tr>\n",
       "    <tr>\n",
       "      <th>25%</th>\n",
       "      <td>6.500000e+00</td>\n",
       "      <td>9.900000e-01</td>\n",
       "      <td>3.960000e+02</td>\n",
       "      <td>1.070000e+02</td>\n",
       "      <td>1.140000e+02</td>\n",
       "      <td>4.324324e+00</td>\n",
       "    </tr>\n",
       "    <tr>\n",
       "      <th>50%</th>\n",
       "      <td>9.500000e+00</td>\n",
       "      <td>1.610000e+00</td>\n",
       "      <td>6.610000e+02</td>\n",
       "      <td>1.620000e+02</td>\n",
       "      <td>1.620000e+02</td>\n",
       "      <td>5.500000e+00</td>\n",
       "    </tr>\n",
       "    <tr>\n",
       "      <th>75%</th>\n",
       "      <td>1.450000e+01</td>\n",
       "      <td>3.000000e+00</td>\n",
       "      <td>1.083000e+03</td>\n",
       "      <td>2.330000e+02</td>\n",
       "      <td>2.330000e+02</td>\n",
       "      <td>7.000000e+00</td>\n",
       "    </tr>\n",
       "    <tr>\n",
       "      <th>max</th>\n",
       "      <td>2.147484e+05</td>\n",
       "      <td>1.061200e+03</td>\n",
       "      <td>1.439300e+04</td>\n",
       "      <td>2.650000e+02</td>\n",
       "      <td>2.650000e+02</td>\n",
       "      <td>2.500069e+05</td>\n",
       "    </tr>\n",
       "  </tbody>\n",
       "</table>\n",
       "</div>"
      ],
      "text/plain": [
       "        fare_amount  trip_distance  Trip Duration Num  DOLocationID  \\\n",
       "count  4.611799e+07   4.611799e+07       4.611799e+07  4.611799e+07   \n",
       "mean   1.280126e+01   2.940263e+00       8.543924e+02  1.613685e+02   \n",
       "std    4.464903e+01   3.765738e+00       6.954279e+02  7.038169e+01   \n",
       "min   -4.850000e+02   1.000000e-02       6.100000e+01  1.000000e+00   \n",
       "25%    6.500000e+00   9.900000e-01       3.960000e+02  1.070000e+02   \n",
       "50%    9.500000e+00   1.610000e+00       6.610000e+02  1.620000e+02   \n",
       "75%    1.450000e+01   3.000000e+00       1.083000e+03  2.330000e+02   \n",
       "max    2.147484e+05   1.061200e+03       1.439300e+04  2.650000e+02   \n",
       "\n",
       "       PULocationID  price_per_mile  \n",
       "count  4.611799e+07    4.611799e+07  \n",
       "mean   1.630773e+02    6.187190e+00  \n",
       "std    6.651453e+01    5.183960e+01  \n",
       "min    1.000000e+00   -4.850000e+04  \n",
       "25%    1.140000e+02    4.324324e+00  \n",
       "50%    1.620000e+02    5.500000e+00  \n",
       "75%    2.330000e+02    7.000000e+00  \n",
       "max    2.650000e+02    2.500069e+05  "
      ]
     },
     "execution_count": 17,
     "metadata": {},
     "output_type": "execute_result"
    }
   ],
   "source": [
    "CRQ1.describe()"
   ]
  },
  {
   "cell_type": "markdown",
   "metadata": {},
   "source": [
    "We still have data that looks like errors, like negative amounts of \"fare_amount\", as we know, it is a dollar amount, which can not be negative. And we also have \"trip_distance\", of 0.01 milles. We are going to assume that every distance under 500 mtrs = 0.310686, is an error, it is almost impossible for someone to take a taxi for a distance less than that."
   ]
  },
  {
   "cell_type": "code",
   "execution_count": 18,
   "metadata": {},
   "outputs": [],
   "source": [
    "# Fare amount greater than zero\n",
    "CRQ1 = CRQ1[(CRQ1[\"fare_amount\"] > 0)]\n",
    "\n",
    "# Trip distance greater than 500 mtrs = 0,310686 milles\n",
    "CRQ1 = CRQ1[(CRQ1[\"trip_distance\"] > 0.310686)]"
   ]
  },
  {
   "cell_type": "code",
   "execution_count": 19,
   "metadata": {
    "scrolled": true
   },
   "outputs": [
    {
     "data": {
      "text/html": [
       "<div>\n",
       "<style scoped>\n",
       "    .dataframe tbody tr th:only-of-type {\n",
       "        vertical-align: middle;\n",
       "    }\n",
       "\n",
       "    .dataframe tbody tr th {\n",
       "        vertical-align: top;\n",
       "    }\n",
       "\n",
       "    .dataframe thead th {\n",
       "        text-align: right;\n",
       "    }\n",
       "</style>\n",
       "<table border=\"1\" class=\"dataframe\">\n",
       "  <thead>\n",
       "    <tr style=\"text-align: right;\">\n",
       "      <th></th>\n",
       "      <th>fare_amount</th>\n",
       "      <th>trip_distance</th>\n",
       "      <th>Trip Duration Num</th>\n",
       "      <th>DOLocationID</th>\n",
       "      <th>PULocationID</th>\n",
       "      <th>price_per_mile</th>\n",
       "    </tr>\n",
       "  </thead>\n",
       "  <tbody>\n",
       "    <tr>\n",
       "      <th>count</th>\n",
       "      <td>4.545628e+07</td>\n",
       "      <td>4.545628e+07</td>\n",
       "      <td>4.545628e+07</td>\n",
       "      <td>4.545628e+07</td>\n",
       "      <td>4.545628e+07</td>\n",
       "      <td>4.545628e+07</td>\n",
       "    </tr>\n",
       "    <tr>\n",
       "      <th>mean</th>\n",
       "      <td>1.292708e+01</td>\n",
       "      <td>2.978670e+00</td>\n",
       "      <td>8.640012e+02</td>\n",
       "      <td>1.612488e+02</td>\n",
       "      <td>1.629898e+02</td>\n",
       "      <td>5.870627e+00</td>\n",
       "    </tr>\n",
       "    <tr>\n",
       "      <th>std</th>\n",
       "      <td>4.495085e+01</td>\n",
       "      <td>3.777055e+00</td>\n",
       "      <td>6.951795e+02</td>\n",
       "      <td>7.042186e+01</td>\n",
       "      <td>6.650013e+01</td>\n",
       "      <td>4.358419e+01</td>\n",
       "    </tr>\n",
       "    <tr>\n",
       "      <th>min</th>\n",
       "      <td>1.000000e-02</td>\n",
       "      <td>3.200000e-01</td>\n",
       "      <td>6.100000e+01</td>\n",
       "      <td>1.000000e+00</td>\n",
       "      <td>1.000000e+00</td>\n",
       "      <td>6.697924e-05</td>\n",
       "    </tr>\n",
       "    <tr>\n",
       "      <th>25%</th>\n",
       "      <td>6.500000e+00</td>\n",
       "      <td>1.000000e+00</td>\n",
       "      <td>4.060000e+02</td>\n",
       "      <td>1.070000e+02</td>\n",
       "      <td>1.140000e+02</td>\n",
       "      <td>4.310345e+00</td>\n",
       "    </tr>\n",
       "    <tr>\n",
       "      <th>50%</th>\n",
       "      <td>9.500000e+00</td>\n",
       "      <td>1.650000e+00</td>\n",
       "      <td>6.690000e+02</td>\n",
       "      <td>1.620000e+02</td>\n",
       "      <td>1.620000e+02</td>\n",
       "      <td>5.468750e+00</td>\n",
       "    </tr>\n",
       "    <tr>\n",
       "      <th>75%</th>\n",
       "      <td>1.450000e+01</td>\n",
       "      <td>3.070000e+00</td>\n",
       "      <td>1.092000e+03</td>\n",
       "      <td>2.330000e+02</td>\n",
       "      <td>2.330000e+02</td>\n",
       "      <td>6.906077e+00</td>\n",
       "    </tr>\n",
       "    <tr>\n",
       "      <th>max</th>\n",
       "      <td>2.147484e+05</td>\n",
       "      <td>1.061200e+03</td>\n",
       "      <td>1.439300e+04</td>\n",
       "      <td>2.650000e+02</td>\n",
       "      <td>2.650000e+02</td>\n",
       "      <td>2.500069e+05</td>\n",
       "    </tr>\n",
       "  </tbody>\n",
       "</table>\n",
       "</div>"
      ],
      "text/plain": [
       "        fare_amount  trip_distance  Trip Duration Num  DOLocationID  \\\n",
       "count  4.545628e+07   4.545628e+07       4.545628e+07  4.545628e+07   \n",
       "mean   1.292708e+01   2.978670e+00       8.640012e+02  1.612488e+02   \n",
       "std    4.495085e+01   3.777055e+00       6.951795e+02  7.042186e+01   \n",
       "min    1.000000e-02   3.200000e-01       6.100000e+01  1.000000e+00   \n",
       "25%    6.500000e+00   1.000000e+00       4.060000e+02  1.070000e+02   \n",
       "50%    9.500000e+00   1.650000e+00       6.690000e+02  1.620000e+02   \n",
       "75%    1.450000e+01   3.070000e+00       1.092000e+03  2.330000e+02   \n",
       "max    2.147484e+05   1.061200e+03       1.439300e+04  2.650000e+02   \n",
       "\n",
       "       PULocationID  price_per_mile  \n",
       "count  4.545628e+07    4.545628e+07  \n",
       "mean   1.629898e+02    5.870627e+00  \n",
       "std    6.650013e+01    4.358419e+01  \n",
       "min    1.000000e+00    6.697924e-05  \n",
       "25%    1.140000e+02    4.310345e+00  \n",
       "50%    1.620000e+02    5.468750e+00  \n",
       "75%    2.330000e+02    6.906077e+00  \n",
       "max    2.650000e+02    2.500069e+05  "
      ]
     },
     "execution_count": 19,
     "metadata": {},
     "output_type": "execute_result"
    }
   ],
   "source": [
    "CRQ1.describe()"
   ]
  },
  {
   "cell_type": "markdown",
   "metadata": {},
   "source": [
    "We still have strange values, in this case, exorbitantly high values for a taxi fare per mile. In order to understand better  what are these values, we are going to sort the values by tha variable \"price_per_mile\", and then look at the tail values. We will also plot the variable in a histogram, to analyze the outsiders"
   ]
  },
  {
   "cell_type": "code",
   "execution_count": 20,
   "metadata": {},
   "outputs": [],
   "source": [
    "CRQ1 = CRQ1.sort_values([\"price_per_mile\"])"
   ]
  },
  {
   "cell_type": "code",
   "execution_count": 21,
   "metadata": {},
   "outputs": [
    {
     "data": {
      "text/html": [
       "<div>\n",
       "<style scoped>\n",
       "    .dataframe tbody tr th:only-of-type {\n",
       "        vertical-align: middle;\n",
       "    }\n",
       "\n",
       "    .dataframe tbody tr th {\n",
       "        vertical-align: top;\n",
       "    }\n",
       "\n",
       "    .dataframe thead th {\n",
       "        text-align: right;\n",
       "    }\n",
       "</style>\n",
       "<table border=\"1\" class=\"dataframe\">\n",
       "  <thead>\n",
       "    <tr style=\"text-align: right;\">\n",
       "      <th></th>\n",
       "      <th>fare_amount</th>\n",
       "      <th>trip_distance</th>\n",
       "      <th>Trip Duration Num</th>\n",
       "      <th>DOLocationID</th>\n",
       "      <th>PULocationID</th>\n",
       "      <th>price_per_mile</th>\n",
       "    </tr>\n",
       "  </thead>\n",
       "  <tbody>\n",
       "    <tr>\n",
       "      <th>6134419</th>\n",
       "      <td>8016.50</td>\n",
       "      <td>6.0</td>\n",
       "      <td>1126</td>\n",
       "      <td>264</td>\n",
       "      <td>264</td>\n",
       "      <td>1336.083333</td>\n",
       "    </tr>\n",
       "    <tr>\n",
       "      <th>43601</th>\n",
       "      <td>4009.50</td>\n",
       "      <td>2.1</td>\n",
       "      <td>697</td>\n",
       "      <td>230</td>\n",
       "      <td>237</td>\n",
       "      <td>1909.285714</td>\n",
       "    </tr>\n",
       "    <tr>\n",
       "      <th>3025173</th>\n",
       "      <td>3007.00</td>\n",
       "      <td>1.2</td>\n",
       "      <td>488</td>\n",
       "      <td>142</td>\n",
       "      <td>141</td>\n",
       "      <td>2505.833333</td>\n",
       "    </tr>\n",
       "    <tr>\n",
       "      <th>8977642</th>\n",
       "      <td>214748.44</td>\n",
       "      <td>1.4</td>\n",
       "      <td>585</td>\n",
       "      <td>4</td>\n",
       "      <td>107</td>\n",
       "      <td>153391.742857</td>\n",
       "    </tr>\n",
       "    <tr>\n",
       "      <th>1896428</th>\n",
       "      <td>200005.50</td>\n",
       "      <td>0.8</td>\n",
       "      <td>265</td>\n",
       "      <td>237</td>\n",
       "      <td>142</td>\n",
       "      <td>250006.875000</td>\n",
       "    </tr>\n",
       "  </tbody>\n",
       "</table>\n",
       "</div>"
      ],
      "text/plain": [
       "         fare_amount  trip_distance  Trip Duration Num  DOLocationID  \\\n",
       "6134419      8016.50            6.0               1126           264   \n",
       "43601        4009.50            2.1                697           230   \n",
       "3025173      3007.00            1.2                488           142   \n",
       "8977642    214748.44            1.4                585             4   \n",
       "1896428    200005.50            0.8                265           237   \n",
       "\n",
       "         PULocationID  price_per_mile  \n",
       "6134419           264     1336.083333  \n",
       "43601             237     1909.285714  \n",
       "3025173           141     2505.833333  \n",
       "8977642           107   153391.742857  \n",
       "1896428           142   250006.875000  "
      ]
     },
     "execution_count": 21,
     "metadata": {},
     "output_type": "execute_result"
    }
   ],
   "source": [
    "CRQ1.tail()"
   ]
  },
  {
   "cell_type": "code",
   "execution_count": 22,
   "metadata": {},
   "outputs": [
    {
     "data": {
      "text/plain": [
       "<matplotlib.axes._subplots.AxesSubplot at 0x21e4b03b8d0>"
      ]
     },
     "execution_count": 22,
     "metadata": {},
     "output_type": "execute_result"
    },
    {
     "data": {
      "image/png": "[encoded data removed]",
      "text/plain": [
       "<Figure size 432x288 with 1 Axes>"
      ]
     },
     "metadata": {},
     "output_type": "display_data"
    }
   ],
   "source": [
    "CRQ1['price_per_mile'].plot(kind='hist')"
   ]
  },
  {
   "cell_type": "markdown",
   "metadata": {},
   "source": [
    "Based on what was seen above, we decided to assume that values with a \"price_per_mille\" higher than 30 dollars per mile are computation errors."
   ]
  },
  {
   "cell_type": "code",
   "execution_count": 23,
   "metadata": {},
   "outputs": [],
   "source": [
    "# Select only the rows with price per mile smaller that 30\n",
    "CRQ1 = CRQ1[(CRQ1[\"price_per_mile\"] < 30)]"
   ]
  },
  {
   "cell_type": "code",
   "execution_count": 24,
   "metadata": {},
   "outputs": [
    {
     "data": {
      "text/plain": [
       "<matplotlib.axes._subplots.AxesSubplot at 0x21e507d9d68>"
      ]
     },
     "execution_count": 24,
     "metadata": {},
     "output_type": "execute_result"
    },
    {
     "data": {
      "image/png": "[encoded data removed]",
      "text/plain": [
       "<Figure size 432x288 with 1 Axes>"
      ]
     },
     "metadata": {},
     "output_type": "display_data"
    }
   ],
   "source": [
    "CRQ1['price_per_mile'].plot(kind='hist')"
   ]
  },
  {
   "cell_type": "markdown",
   "metadata": {},
   "source": [
    "At this point we are more or less satisfied with how the variable \"price_per_mile\" looks like. So, now we are going to import the \"taxi_zone_lookup\", merge it with our data base, using the column PULocationID (TLC Taxi Zone in which the taximeter was engaged), in order to analyze, the price per mile by borough.  "
   ]
  },
  {
   "cell_type": "code",
   "execution_count": 26,
   "metadata": {},
   "outputs": [],
   "source": [
    "# Import the taxi_zone_lookup data base\n",
    "taxi_zone_data = pd.read_csv('taxi_zone_lookup.csv')\n",
    "\n",
    "# Change the name of the variable PULocationID\n",
    "CRQ1 = CRQ1.rename(columns={'PULocationID': 'LocationID'})\n",
    "\n",
    "# Merge both databases by LocationID = PULocationID\n",
    "CRQ1 = pd.merge(CRQ1, taxi_zone_data, on=\"LocationID\")\n",
    "\n",
    "# Select only the columns needed on this exercise\n",
    "cols_of_interest = ['fare_amount', 'trip_distance', 'Trip Duration Num', \"price_per_mile\", \"Borough\"]\n",
    "CRQ1 = CRQ1[cols_of_interest]\n",
    "\n",
    "# Eliminate Borough = Unknown\n",
    "CRQ1 = CRQ1[CRQ1['Borough'].isin(['Bronx', 'Brooklyn', \"EWR\", \"Manhattan\", \"Queens\", \"Staten Island\"])]"
   ]
  },
  {
   "cell_type": "markdown",
   "metadata": {},
   "source": [
    "Following, it exposed, the data corresponding to: mean, standard deviation and histogram of the distribution, in that order, for each borough. "
   ]
  },
  {
   "cell_type": "code",
   "execution_count": 33,
   "metadata": {},
   "outputs": [
    {
     "name": "stdout",
     "output_type": "stream",
     "text": [
      "Manhattan\n",
      "Mean:  6.017286714972228\n",
      "Standard deviation:  2.141097972578411\n"
     ]
    },
    {
     "data": {
      "text/plain": [
       "<matplotlib.axes._subplots.AxesSubplot at 0x21e39578d68>"
      ]
     },
     "execution_count": 33,
     "metadata": {},
     "output_type": "execute_result"
    },
    {
     "data": {
      "image/png": "[encoded data removed]",
      "text/plain": [
       "<Figure size 432x288 with 1 Axes>"
      ]
     },
     "metadata": {},
     "output_type": "display_data"
    }
   ],
   "source": [
    "# I'm sure it is a better way to compute this, with a for loop, and groupby, but I was not able to figure that out in time.\n",
    "# Manhattan\n",
    "print(\"Manhattan\")\n",
    "Manhattan = CRQ1[CRQ1['Borough'].isin([\"Manhattan\"])]\n",
    "print(\"Mean: \", Manhattan[\"price_per_mile\"].mean())\n",
    "print(\"Standard deviation: \", Manhattan[\"price_per_mile\"].std())\n",
    "Manhattan['price_per_mile'].plot(kind='hist', title=\"Price per Mile ditribution in Manhattan\")"
   ]
  },
  {
   "cell_type": "code",
   "execution_count": 34,
   "metadata": {},
   "outputs": [
    {
     "name": "stdout",
     "output_type": "stream",
     "text": [
      "Bronx\n",
      "Mean:  4.756491953420972\n",
      "Standard deviation:  1.8789249617093802\n"
     ]
    },
    {
     "data": {
      "text/plain": [
       "<matplotlib.axes._subplots.AxesSubplot at 0x21e51d74be0>"
      ]
     },
     "execution_count": 34,
     "metadata": {},
     "output_type": "execute_result"
    },
    {
     "data": {
      "image/png": "[encoded data removed]",
      "text/plain": [
       "<Figure size 432x288 with 1 Axes>"
      ]
     },
     "metadata": {},
     "output_type": "display_data"
    }
   ],
   "source": [
    "# Bronx\n",
    "print(\"Bronx\")\n",
    "Bronx = CRQ1[CRQ1['Borough'].isin([\"Bronx\"])]\n",
    "print(\"Mean: \",Bronx[\"price_per_mile\"].mean())\n",
    "print(\"Standard deviation: \", Bronx[\"price_per_mile\"].std())\n",
    "Bronx['price_per_mile'].plot(kind='hist', title=\"Price per Mile ditribution in Bronx\")"
   ]
  },
  {
   "cell_type": "code",
   "execution_count": 35,
   "metadata": {},
   "outputs": [
    {
     "name": "stdout",
     "output_type": "stream",
     "text": [
      "Staten Island\n",
      "Mean:  4.107593230727787\n",
      "Standard deviation:  2.6526968082449773\n"
     ]
    },
    {
     "data": {
      "text/plain": [
       "<matplotlib.axes._subplots.AxesSubplot at 0x21e4a028438>"
      ]
     },
     "execution_count": 35,
     "metadata": {},
     "output_type": "execute_result"
    },
    {
     "data": {
      "image/png": "[encoded data removed]",
      "text/plain": [
       "<Figure size 432x288 with 1 Axes>"
      ]
     },
     "metadata": {},
     "output_type": "display_data"
    }
   ],
   "source": [
    "# Staten Island\n",
    "print(\"Staten Island\")\n",
    "Staten_Island = CRQ1[CRQ1['Borough'].isin([\"Staten Island\"])]\n",
    "print(\"Mean: \", Staten_Island[\"price_per_mile\"].mean())\n",
    "print(\"Standard deviation: \",Staten_Island[\"price_per_mile\"].std())\n",
    "Staten_Island['price_per_mile'].plot(kind='hist', title=\"Price per Mile ditribution in Staten Island\")"
   ]
  },
  {
   "cell_type": "code",
   "execution_count": 36,
   "metadata": {},
   "outputs": [
    {
     "name": "stdout",
     "output_type": "stream",
     "text": [
      "Queens\n",
      "Mean:  3.468360627118219\n",
      "Standard deviation:  1.3213959367386856\n"
     ]
    },
    {
     "data": {
      "text/plain": [
       "<matplotlib.axes._subplots.AxesSubplot at 0x21e3773dbe0>"
      ]
     },
     "execution_count": 36,
     "metadata": {},
     "output_type": "execute_result"
    },
    {
     "data": {
      "image/png": "[encoded data removed]",
      "text/plain": [
       "<Figure size 432x288 with 1 Axes>"
      ]
     },
     "metadata": {},
     "output_type": "display_data"
    }
   ],
   "source": [
    "# Queens\n",
    "print(\"Queens\")\n",
    "Queens = CRQ1[CRQ1['Borough'].isin([\"Queens\"])]\n",
    "print(\"Mean: \", Queens[\"price_per_mile\"].mean())\n",
    "print(\"Standard deviation: \",Queens[\"price_per_mile\"].std())\n",
    "Queens['price_per_mile'].plot(kind='hist', title=\"Price per Mile ditribution in Queens\")"
   ]
  },
  {
   "cell_type": "code",
   "execution_count": 37,
   "metadata": {},
   "outputs": [
    {
     "name": "stdout",
     "output_type": "stream",
     "text": [
      "EWR\n",
      "Mean:  4.551425060438014\n",
      "Standard deviation:  3.4679707811697806\n"
     ]
    },
    {
     "data": {
      "text/plain": [
       "<matplotlib.axes._subplots.AxesSubplot at 0x21e53768f98>"
      ]
     },
     "execution_count": 37,
     "metadata": {},
     "output_type": "execute_result"
    },
    {
     "data": {
      "image/png": "[encoded data removed]",
      "text/plain": [
       "<Figure size 432x288 with 1 Axes>"
      ]
     },
     "metadata": {},
     "output_type": "display_data"
    }
   ],
   "source": [
    "#EWR\n",
    "print(\"EWR\")\n",
    "EWR = CRQ1[CRQ1['Borough'].isin([\"EWR\"])]\n",
    "print(\"Mean: \", EWR[\"price_per_mile\"].mean())\n",
    "print(\"Standard deviation: \",EWR[\"price_per_mile\"].std())\n",
    "EWR['price_per_mile'].plot(kind='hist', title=\"Price per Mile ditribution in EWR\")"
   ]
  },
  {
   "cell_type": "code",
   "execution_count": 38,
   "metadata": {},
   "outputs": [
    {
     "name": "stdout",
     "output_type": "stream",
     "text": [
      "Brooklyn\n",
      "Mean:  4.945656956213727\n",
      "Standard deviation:  1.7540498934767979\n"
     ]
    },
    {
     "data": {
      "text/plain": [
       "<matplotlib.axes._subplots.AxesSubplot at 0x21e535779e8>"
      ]
     },
     "execution_count": 38,
     "metadata": {},
     "output_type": "execute_result"
    },
    {
     "data": {
      "image/png": "[encoded data removed]",
      "text/plain": [
       "<Figure size 432x288 with 1 Axes>"
      ]
     },
     "metadata": {},
     "output_type": "display_data"
    }
   ],
   "source": [
    "# Brooklyn\n",
    "print(\"Brooklyn\")\n",
    "Brooklyn = CRQ1[CRQ1['Borough'].isin([\"Brooklyn\"])]\n",
    "print(\"Mean: \", Brooklyn[\"price_per_mile\"].mean())\n",
    "print(\"Standard deviation: \",Brooklyn[\"price_per_mile\"].std())\n",
    "Brooklyn['price_per_mile'].plot(kind='hist', title=\"Price per Mile ditribution in Brooklyn\")"
   ]
  },
  {
   "cell_type": "markdown",
   "metadata": {},
   "source": [
    "Looking at the data previously exposed we can notice that the mean of the price per mile of the taxis that were taken in Manhattan (remember, that the categorization of the borough it is given by PULocationID), is notoriously higher than the other ones.\n",
    "\n",
    "One possible explanation is that, probably, in Manhattan the traffic is greater than in the other boroughs and therefore the time spent in the taxi, thus increasing the price per mile.\n",
    "\n",
    "On the other hand, if we look at the standard deviation, we see that they are all close to 2, except EWR, and this makes sense because the rate to go to EWR has more restrictions, is calculated differently and also depends on the time of the day in which the taxi is used, unlike the other boroughs. \n",
    "\n",
    "Finally, with respect to the distributions, they all have an accentuated pick, which makes sense, since one would tend to think that the rate per mile should converge at a quasi-fixed rate.\n",
    "\n",
    "We can also see that the boroughs that are further away from Manhattan as Staten Island or EWR, have extreme values, which are closer to higher prices per mile, which could be explained that having a longer trip, variables such as traffic or other setbacks that affect time spent inside the taxi, are more likely to occur than on shorter trips.\n",
    "\n",
    "Following, it exposed, the data corresponding to the t-test among all the possible pairs of distribution of different boroughs."
   ]
  },
  {
   "cell_type": "code",
   "execution_count": 41,
   "metadata": {},
   "outputs": [
    {
     "name": "stdout",
     "output_type": "stream",
     "text": [
      "('Bronx', 'Brooklyn')\n",
      "('Bronx', 'EWR')\n",
      "('Bronx', 'Manhattan')\n",
      "('Bronx', 'Queens')\n",
      "('Bronx', 'Staten Island')\n",
      "('Brooklyn', 'EWR')\n",
      "('Brooklyn', 'Manhattan')\n",
      "('Brooklyn', 'Queens')\n",
      "('Brooklyn', 'Staten Island')\n",
      "('EWR', 'Manhattan')\n",
      "('EWR', 'Queens')\n",
      "('EWR', 'Staten Island')\n",
      "('Manhattan', 'Queens')\n",
      "('Manhattan', 'Staten Island')\n",
      "('Queens', 'Staten Island')\n"
     ]
    }
   ],
   "source": [
    "# Again, I'm sure it is more efficient way to compute this :/\n",
    "# Find all the possible pairs of different boroughs\n",
    "Borough = ['Bronx', 'Brooklyn', \"EWR\", \"Manhattan\", \"Queens\", \"Staten Island\"]\n",
    "Borough_perm = list(combinations(Borough, 2))\n",
    "for i in Borough_perm:\n",
    "    print(i)"
   ]
  },
  {
   "cell_type": "code",
   "execution_count": 42,
   "metadata": {},
   "outputs": [],
   "source": [
    "# Select only the variable of interest for each borough\n",
    "Manhattan = Manhattan['price_per_mile']\n",
    "Bronx = Bronx['price_per_mile']\n",
    "Brooklyn = Brooklyn['price_per_mile']\n",
    "EWR = EWR['price_per_mile']\n",
    "Queens = Queens['price_per_mile']\n",
    "Staten_Island = Staten_Island['price_per_mile']"
   ]
  },
  {
   "cell_type": "code",
   "execution_count": 43,
   "metadata": {},
   "outputs": [
    {
     "name": "stdout",
     "output_type": "stream",
     "text": [
      "Bronx & Brooklyn\n",
      "Statistics=-21.936, p=0.000\n",
      "Different distributions (reject H0)\n",
      " \n",
      "Bronx & EWR\n",
      "Statistics=1.524, p=0.127\n",
      "Same distributions (fail to reject H0)\n",
      " \n",
      "Bronx & Manhattan\n",
      "Statistics=-124.950, p=0.000\n",
      "Different distributions (reject H0)\n",
      " \n",
      "Bronx & Queens\n",
      "Statistics=203.669, p=0.000\n",
      "Different distributions (reject H0)\n",
      " \n",
      "Bronx & Staten Island\n",
      "Statistics=6.762, p=0.000\n",
      "Different distributions (reject H0)\n",
      " \n",
      "Brooklyn & EWR\n",
      "Statistics=3.160, p=0.002\n",
      "Different distributions (reject H0)\n",
      " \n",
      "Brooklyn & Manhattan\n",
      "Statistics=-379.371, p=0.000\n",
      "Different distributions (reject H0)\n",
      " \n",
      "Brooklyn & Queens\n",
      "Statistics=729.310, p=0.000\n",
      "Different distributions (reject H0)\n",
      " \n",
      "Brooklyn & Staten Island\n",
      "Statistics=9.428, p=0.000\n",
      "Different distributions (reject H0)\n",
      " \n",
      "EWR & Manhattan\n",
      "Statistics=-9.634, p=0.000\n",
      "Different distributions (reject H0)\n",
      " \n",
      "EWR & Queens\n",
      "Statistics=11.531, p=0.000\n",
      "Different distributions (reject H0)\n",
      " \n",
      "EWR & Staten Island\n",
      "Statistics=1.723, p=0.085\n",
      "Same distributions (fail to reject H0)\n",
      " \n",
      "Manhattan & Queens\n",
      "Statistics=1972.583, p=0.000\n",
      "Different distributions (reject H0)\n",
      " \n",
      "Manhattan & Staten Island\n",
      "Statistics=17.614, p=0.000\n",
      "Different distributions (reject H0)\n",
      " \n",
      "Queens & Staten Island\n",
      "Statistics=-9.551, p=0.000\n",
      "Different distributions (reject H0)\n",
      " \n"
     ]
    }
   ],
   "source": [
    "# Compute all t-test\n",
    "alpha = 0.05\n",
    "\n",
    "print(\"Bronx & Brooklyn\")\n",
    "stat, p = ttest_ind(Bronx, Brooklyn)\n",
    "print('Statistics=%.3f, p=%.3f' % (stat, p))\n",
    "if p > alpha:\n",
    "    print('Same distributions (fail to reject H0)')\n",
    "    print(\" \")\n",
    "else:\n",
    "    print('Different distributions (reject H0)')\n",
    "    print(\" \")\n",
    "    \n",
    "print(\"Bronx & EWR\")\n",
    "stat, p = ttest_ind(Bronx, EWR)\n",
    "print('Statistics=%.3f, p=%.3f' % (stat, p))\n",
    "if p > alpha:\n",
    "    print('Same distributions (fail to reject H0)')\n",
    "    print(\" \")\n",
    "else:\n",
    "    print('Different distributions (reject H0)')\n",
    "    print(\" \")\n",
    "\n",
    "print(\"Bronx & Manhattan\")\n",
    "stat, p = ttest_ind(Bronx, Manhattan)\n",
    "print('Statistics=%.3f, p=%.3f' % (stat, p))\n",
    "if p > alpha:\n",
    "    print('Same distributions (fail to reject H0)')\n",
    "    print(\" \")\n",
    "else:\n",
    "    print('Different distributions (reject H0)')\n",
    "    print(\" \")\n",
    "    \n",
    "print(\"Bronx & Queens\")\n",
    "stat, p = ttest_ind(Bronx, Queens)\n",
    "print('Statistics=%.3f, p=%.3f' % (stat, p))\n",
    "if p > alpha:\n",
    "    print('Same distributions (fail to reject H0)')\n",
    "    print(\" \")\n",
    "else:\n",
    "    print('Different distributions (reject H0)')\n",
    "    print(\" \")\n",
    "\n",
    "print(\"Bronx & Staten Island\")\n",
    "stat, p = ttest_ind(Bronx, Staten_Island)\n",
    "print('Statistics=%.3f, p=%.3f' % (stat, p))\n",
    "if p > alpha:\n",
    "    print('Same distributions (fail to reject H0)')\n",
    "    print(\" \")\n",
    "else:\n",
    "    print('Different distributions (reject H0)')\n",
    "    print(\" \")\n",
    "    \n",
    "print(\"Brooklyn & EWR\")\n",
    "stat, p = ttest_ind(Brooklyn, EWR)\n",
    "print('Statistics=%.3f, p=%.3f' % (stat, p))\n",
    "if p > alpha:\n",
    "    print('Same distributions (fail to reject H0)')\n",
    "    print(\" \")\n",
    "else:\n",
    "    print('Different distributions (reject H0)')\n",
    "    print(\" \")\n",
    "    \n",
    "print(\"Brooklyn & Manhattan\")\n",
    "stat, p = ttest_ind(Brooklyn, Manhattan)\n",
    "print('Statistics=%.3f, p=%.3f' % (stat, p))\n",
    "if p > alpha:\n",
    "    print('Same distributions (fail to reject H0)')\n",
    "    print(\" \")\n",
    "else:\n",
    "    print('Different distributions (reject H0)')\n",
    "    print(\" \")\n",
    "    \n",
    "print(\"Brooklyn & Queens\")\n",
    "stat, p = ttest_ind(Brooklyn, Queens)\n",
    "print('Statistics=%.3f, p=%.3f' % (stat, p))\n",
    "if p > alpha:\n",
    "    print('Same distributions (fail to reject H0)')\n",
    "    print(\" \")\n",
    "else:\n",
    "    print('Different distributions (reject H0)')\n",
    "    print(\" \")\n",
    "\n",
    "print(\"Brooklyn & Staten Island\")\n",
    "stat, p = ttest_ind(Brooklyn, Staten_Island)\n",
    "print('Statistics=%.3f, p=%.3f' % (stat, p))\n",
    "if p > alpha:\n",
    "    print('Same distributions (fail to reject H0)')\n",
    "    print(\" \")\n",
    "else:\n",
    "    print('Different distributions (reject H0)')\n",
    "    print(\" \")\n",
    "\n",
    "print(\"EWR & Manhattan\")\n",
    "stat, p = ttest_ind(EWR, Manhattan)\n",
    "print('Statistics=%.3f, p=%.3f' % (stat, p))\n",
    "if p > alpha:\n",
    "    print('Same distributions (fail to reject H0)')\n",
    "    print(\" \")\n",
    "else:\n",
    "    print('Different distributions (reject H0)')\n",
    "    print(\" \")\n",
    "\n",
    "print(\"EWR & Queens\")\n",
    "stat, p = ttest_ind(EWR, Queens)\n",
    "print('Statistics=%.3f, p=%.3f' % (stat, p))\n",
    "if p > alpha:\n",
    "    print('Same distributions (fail to reject H0)')\n",
    "    print(\" \")\n",
    "else:\n",
    "    print('Different distributions (reject H0)')\n",
    "    print(\" \")\n",
    "    \n",
    "print(\"EWR & Staten Island\")\n",
    "stat, p = ttest_ind(EWR, Staten_Island)\n",
    "print('Statistics=%.3f, p=%.3f' % (stat, p))\n",
    "if p > alpha:\n",
    "    print('Same distributions (fail to reject H0)')\n",
    "    print(\" \")\n",
    "else:\n",
    "    print('Different distributions (reject H0)')\n",
    "    print(\" \")\n",
    "\n",
    "print(\"Manhattan & Queens\")\n",
    "stat, p = ttest_ind(Manhattan, Queens)\n",
    "print('Statistics=%.3f, p=%.3f' % (stat, p))\n",
    "if p > alpha:\n",
    "    print('Same distributions (fail to reject H0)')\n",
    "    print(\" \")\n",
    "else:\n",
    "    print('Different distributions (reject H0)')\n",
    "    print(\" \")\n",
    "\n",
    "print(\"Manhattan & Staten Island\")\n",
    "stat, p = ttest_ind(Manhattan, Staten_Island)\n",
    "print('Statistics=%.3f, p=%.3f' % (stat, p))\n",
    "if p > alpha:\n",
    "    print('Same distributions (fail to reject H0)')\n",
    "    print(\" \")\n",
    "else:\n",
    "    print('Different distributions (reject H0)')\n",
    "    print(\" \")\n",
    "\n",
    "print(\"Queens & Staten Island\")\n",
    "stat, p = ttest_ind(Queens, Staten_Island)\n",
    "print('Statistics=%.3f, p=%.3f' % (stat, p))\n",
    "if p > alpha:\n",
    "    print('Same distributions (fail to reject H0)')\n",
    "    print(\" \")\n",
    "else:\n",
    "    print('Different distributions (reject H0)')\n",
    "    print(\" \")"
   ]
  },
  {
   "cell_type": "markdown",
   "metadata": {},
   "source": [
    "Let's recap briefly what the results we just computed mean:\n",
    "\n",
    "1. Implicit assumptions that we are making:\n",
    "   - The data samples are independent\n",
    "   - The data samples distribute Normal\n",
    "\n",
    "\n",
    "2. The null hypothesis in this case is that the means of the two boroughs tested are equal. A rejection of this hypothesis indicates that there is sufficient evidence that the means are different, therefore the distributions are not equal.\n",
    "   - Fail to Reject H0: Sample distributions are equal.\n",
    "   - Reject H0: Sample distributions are not equal.\n",
    "\n",
    "\n",
    "3. The interpretation of the statistic finds that the sample means are different, with a significance of at least 5%.\n",
    "\n",
    "In light of the results we can you say that are statistically significant differences, on the averages, among zones in almost every pair except for Bronx & EWR and Staten Island & EWR.\n",
    "\n",
    "These results are not very intuitive, because as we said before it would tend to think that the price per mile would tend to converge to a fixed price independent of the neighborhood, perhaps except for the case of EWR that has a slightly different pricing method.\n",
    "\n",
    "Possible explanations for these differences:\n",
    "- The traffic and therefore the duration of the trip affects considerably the price per mile.\n",
    "- The data samples are not independent, in this case, it could be a preference for neighborhoods or events that happen in New York, which do not affect everyone equally.\n",
    "- The data samples do not distribute normal, in the histograms we saw that despite having a single pick just like the Normal the right tail tends to be longer in all boroughs, than the one on the left, which is otherwise fixed, by the nature of the variable, at zero. \n",
    "\n",
    "Coming up next we will proceed to compute our new variable: price per mile 2.0, that takes in account the trip duration, hoping that this mitigates the effect of traffic on the price per mile previously calculated.\n",
    "\n",
    "For computing this variable, we are going to use the ratio between the price_per_mile and the Trip Duration Num, that in our case is a variable that we compute in a previous exercise, which corresponds to the total seconds of the trip, represented by an integer."
   ]
  },
  {
   "cell_type": "code",
   "execution_count": 45,
   "metadata": {},
   "outputs": [],
   "source": [
    "CRQ1[\"price_per_mile_2.0\"] = CRQ1[\"price_per_mile\"] / CRQ1['Trip Duration Num']"
   ]
  },
  {
   "cell_type": "code",
   "execution_count": 46,
   "metadata": {},
   "outputs": [
    {
     "data": {
      "text/html": [
       "<div>\n",
       "<style scoped>\n",
       "    .dataframe tbody tr th:only-of-type {\n",
       "        vertical-align: middle;\n",
       "    }\n",
       "\n",
       "    .dataframe tbody tr th {\n",
       "        vertical-align: top;\n",
       "    }\n",
       "\n",
       "    .dataframe thead th {\n",
       "        text-align: right;\n",
       "    }\n",
       "</style>\n",
       "<table border=\"1\" class=\"dataframe\">\n",
       "  <thead>\n",
       "    <tr style=\"text-align: right;\">\n",
       "      <th></th>\n",
       "      <th>fare_amount</th>\n",
       "      <th>trip_distance</th>\n",
       "      <th>Trip Duration Num</th>\n",
       "      <th>price_per_mile</th>\n",
       "      <th>price_per_mile_2.0</th>\n",
       "    </tr>\n",
       "  </thead>\n",
       "  <tbody>\n",
       "    <tr>\n",
       "      <th>count</th>\n",
       "      <td>4.478703e+07</td>\n",
       "      <td>4.478703e+07</td>\n",
       "      <td>4.478703e+07</td>\n",
       "      <td>4.478703e+07</td>\n",
       "      <td>4.478703e+07</td>\n",
       "    </tr>\n",
       "    <tr>\n",
       "      <th>mean</th>\n",
       "      <td>1.290833e+01</td>\n",
       "      <td>2.980749e+00</td>\n",
       "      <td>8.642178e+02</td>\n",
       "      <td>5.841809e+00</td>\n",
       "      <td>1.255993e-02</td>\n",
       "    </tr>\n",
       "    <tr>\n",
       "      <th>std</th>\n",
       "      <td>1.098907e+01</td>\n",
       "      <td>3.778111e+00</td>\n",
       "      <td>6.953072e+02</td>\n",
       "      <td>2.186231e+00</td>\n",
       "      <td>1.302129e-02</td>\n",
       "    </tr>\n",
       "    <tr>\n",
       "      <th>min</th>\n",
       "      <td>1.000000e-02</td>\n",
       "      <td>3.200000e-01</td>\n",
       "      <td>6.100000e+01</td>\n",
       "      <td>6.697924e-05</td>\n",
       "      <td>7.093160e-09</td>\n",
       "    </tr>\n",
       "    <tr>\n",
       "      <th>25%</th>\n",
       "      <td>6.500000e+00</td>\n",
       "      <td>1.000000e+00</td>\n",
       "      <td>4.060000e+02</td>\n",
       "      <td>4.308511e+00</td>\n",
       "      <td>4.432624e-03</td>\n",
       "    </tr>\n",
       "    <tr>\n",
       "      <th>50%</th>\n",
       "      <td>9.500000e+00</td>\n",
       "      <td>1.660000e+00</td>\n",
       "      <td>6.690000e+02</td>\n",
       "      <td>5.462185e+00</td>\n",
       "      <td>8.453726e-03</td>\n",
       "    </tr>\n",
       "    <tr>\n",
       "      <th>75%</th>\n",
       "      <td>1.450000e+01</td>\n",
       "      <td>3.070000e+00</td>\n",
       "      <td>1.092000e+03</td>\n",
       "      <td>6.896552e+00</td>\n",
       "      <td>1.577643e-02</td>\n",
       "    </tr>\n",
       "    <tr>\n",
       "      <th>max</th>\n",
       "      <td>1.020500e+03</td>\n",
       "      <td>1.061200e+03</td>\n",
       "      <td>1.439300e+04</td>\n",
       "      <td>3.000000e+01</td>\n",
       "      <td>4.609375e-01</td>\n",
       "    </tr>\n",
       "  </tbody>\n",
       "</table>\n",
       "</div>"
      ],
      "text/plain": [
       "        fare_amount  trip_distance  Trip Duration Num  price_per_mile  \\\n",
       "count  4.478703e+07   4.478703e+07       4.478703e+07    4.478703e+07   \n",
       "mean   1.290833e+01   2.980749e+00       8.642178e+02    5.841809e+00   \n",
       "std    1.098907e+01   3.778111e+00       6.953072e+02    2.186231e+00   \n",
       "min    1.000000e-02   3.200000e-01       6.100000e+01    6.697924e-05   \n",
       "25%    6.500000e+00   1.000000e+00       4.060000e+02    4.308511e+00   \n",
       "50%    9.500000e+00   1.660000e+00       6.690000e+02    5.462185e+00   \n",
       "75%    1.450000e+01   3.070000e+00       1.092000e+03    6.896552e+00   \n",
       "max    1.020500e+03   1.061200e+03       1.439300e+04    3.000000e+01   \n",
       "\n",
       "       price_per_mile_2.0  \n",
       "count        4.478703e+07  \n",
       "mean         1.255993e-02  \n",
       "std          1.302129e-02  \n",
       "min          7.093160e-09  \n",
       "25%          4.432624e-03  \n",
       "50%          8.453726e-03  \n",
       "75%          1.577643e-02  \n",
       "max          4.609375e-01  "
      ]
     },
     "execution_count": 46,
     "metadata": {},
     "output_type": "execute_result"
    }
   ],
   "source": [
    "CRQ1.describe()"
   ]
  },
  {
   "cell_type": "markdown",
   "metadata": {},
   "source": [
    "It looks normal this time, so we are going to proceed to compute the mean, standard deviation and histogram of the distribution, in that order, for each borough, for our new variable price_per_mile_2.0"
   ]
  },
  {
   "cell_type": "code",
   "execution_count": 47,
   "metadata": {},
   "outputs": [
    {
     "name": "stdout",
     "output_type": "stream",
     "text": [
      "Manhattan\n",
      "Mean:  0.013212512605485229\n",
      "Standard deviation:  0.013091611282191115\n"
     ]
    },
    {
     "data": {
      "text/plain": [
       "<matplotlib.axes._subplots.AxesSubplot at 0x21e499c25c0>"
      ]
     },
     "execution_count": 47,
     "metadata": {},
     "output_type": "execute_result"
    },
    {
     "data": {
      "image/png": "[encoded data removed]",
      "text/plain": [
       "<Figure size 432x288 with 1 Axes>"
      ]
     },
     "metadata": {},
     "output_type": "display_data"
    }
   ],
   "source": [
    "# If I had done the for loop before, this would be much more direct :/\n",
    "# Manhattan\n",
    "print(\"Manhattan\")\n",
    "Manhattan = CRQ1[CRQ1['Borough'].isin([\"Manhattan\"])]\n",
    "print(\"Mean: \", Manhattan[\"price_per_mile_2.0\"].mean())\n",
    "print(\"Standard deviation: \", Manhattan[\"price_per_mile_2.0\"].std())\n",
    "Manhattan['price_per_mile_2.0'].plot(kind='hist', title=\"Price per Mile 2.0 ditribution in Manhattan\")"
   ]
  },
  {
   "cell_type": "code",
   "execution_count": 48,
   "metadata": {},
   "outputs": [
    {
     "name": "stdout",
     "output_type": "stream",
     "text": [
      "Bronx\n",
      "Mean:  0.009030416361289734\n",
      "Standard deviation:  0.012172088639718973\n"
     ]
    },
    {
     "data": {
      "text/plain": [
       "<matplotlib.axes._subplots.AxesSubplot at 0x21e35eec978>"
      ]
     },
     "execution_count": 48,
     "metadata": {},
     "output_type": "execute_result"
    },
    {
     "data": {
      "image/png": "[encoded data removed]",
      "text/plain": [
       "<Figure size 432x288 with 1 Axes>"
      ]
     },
     "metadata": {},
     "output_type": "display_data"
    }
   ],
   "source": [
    "# Bronx\n",
    "print(\"Bronx\")\n",
    "Bronx = CRQ1[CRQ1['Borough'].isin([\"Bronx\"])]\n",
    "print(\"Mean: \",Bronx[\"price_per_mile_2.0\"].mean())\n",
    "print(\"Standard deviation: \", Bronx[\"price_per_mile_2.0\"].std())\n",
    "Bronx['price_per_mile_2.0'].plot(kind='hist', title=\"Price per Mile 2.0 ditribution in Bronx\")"
   ]
  },
  {
   "cell_type": "code",
   "execution_count": 57,
   "metadata": {
    "scrolled": true
   },
   "outputs": [
    {
     "name": "stdout",
     "output_type": "stream",
     "text": [
      "Staten Island\n",
      "Mean:  0.007371396338425366\n",
      "Standard deviation:  0.01293776522026739\n"
     ]
    },
    {
     "data": {
      "text/plain": [
       "<matplotlib.axes._subplots.AxesSubplot at 0x21e35550390>"
      ]
     },
     "execution_count": 57,
     "metadata": {},
     "output_type": "execute_result"
    },
    {
     "data": {
      "image/png": "[encoded data removed]",
      "text/plain": [
       "<Figure size 432x288 with 1 Axes>"
      ]
     },
     "metadata": {},
     "output_type": "display_data"
    }
   ],
   "source": [
    "# Staten Island\n",
    "print(\"Staten Island\")\n",
    "Staten_Island = CRQ1[CRQ1['Borough'].isin([\"Staten Island\"])]\n",
    "print(\"Mean: \", Staten_Island[\"price_per_mile_2.0\"].mean())\n",
    "print(\"Standard deviation: \",Staten_Island[\"price_per_mile_2.0\"].std())\n",
    "Staten_Island['price_per_mile_2.0'].plot(kind='hist', title=\"Price per Mile 2.0 ditribution in Staten Island\")"
   ]
  },
  {
   "cell_type": "code",
   "execution_count": 51,
   "metadata": {},
   "outputs": [
    {
     "name": "stdout",
     "output_type": "stream",
     "text": [
      "Queens\n",
      "Mean:  0.003478326444858839\n",
      "Standard deviation:  0.0074819869703472265\n"
     ]
    },
    {
     "data": {
      "text/plain": [
       "<matplotlib.axes._subplots.AxesSubplot at 0x21e3c07fa20>"
      ]
     },
     "execution_count": 51,
     "metadata": {},
     "output_type": "execute_result"
    },
    {
     "data": {
      "image/png": "[encoded data removed]",
      "text/plain": [
       "<Figure size 432x288 with 1 Axes>"
      ]
     },
     "metadata": {},
     "output_type": "display_data"
    }
   ],
   "source": [
    "# Queens\n",
    "print(\"Queens\")\n",
    "Queens = CRQ1[CRQ1['Borough'].isin([\"Queens\"])]\n",
    "print(\"Mean: \", Queens[\"price_per_mile_2.0\"].mean())\n",
    "print(\"Standard deviation: \",Queens[\"price_per_mile_2.0\"].std())\n",
    "Queens['price_per_mile_2.0'].plot(kind='hist', title=\"Price per Mile 2.0 ditribution in Queens\")"
   ]
  },
  {
   "cell_type": "code",
   "execution_count": 52,
   "metadata": {},
   "outputs": [
    {
     "name": "stdout",
     "output_type": "stream",
     "text": [
      "EWR\n",
      "Mean:  0.014509887615676733\n",
      "Standard deviation:  0.03500081336591886\n"
     ]
    },
    {
     "data": {
      "text/plain": [
       "<matplotlib.axes._subplots.AxesSubplot at 0x21e385730b8>"
      ]
     },
     "execution_count": 52,
     "metadata": {},
     "output_type": "execute_result"
    },
    {
     "data": {
      "image/png": "[encoded data removed]",
      "text/plain": [
       "<Figure size 432x288 with 1 Axes>"
      ]
     },
     "metadata": {},
     "output_type": "display_data"
    }
   ],
   "source": [
    "#EWR\n",
    "print(\"EWR\")\n",
    "EWR = CRQ1[CRQ1['Borough'].isin([\"EWR\"])]\n",
    "print(\"Mean: \", EWR[\"price_per_mile_2.0\"].mean())\n",
    "print(\"Standard deviation: \",EWR[\"price_per_mile_2.0\"].std())\n",
    "EWR['price_per_mile_2.0'].plot(kind='hist', title=\"Price per Mile 2.0 ditribution in EWR\")"
   ]
  },
  {
   "cell_type": "code",
   "execution_count": 53,
   "metadata": {},
   "outputs": [
    {
     "name": "stdout",
     "output_type": "stream",
     "text": [
      "Brooklyn\n",
      "Mean:  0.010423102552110585\n",
      "Standard deviation:  0.01245303919394363\n"
     ]
    },
    {
     "data": {
      "text/plain": [
       "<matplotlib.axes._subplots.AxesSubplot at 0x21e34072d68>"
      ]
     },
     "execution_count": 53,
     "metadata": {},
     "output_type": "execute_result"
    },
    {
     "data": {
      "image/png": "[encoded data removed]",
      "text/plain": [
       "<Figure size 432x288 with 1 Axes>"
      ]
     },
     "metadata": {},
     "output_type": "display_data"
    }
   ],
   "source": [
    "# Brooklyn\n",
    "print(\"Brooklyn\")\n",
    "Brooklyn = CRQ1[CRQ1['Borough'].isin([\"Brooklyn\"])]\n",
    "print(\"Mean: \", Brooklyn[\"price_per_mile_2.0\"].mean())\n",
    "print(\"Standard deviation: \",Brooklyn[\"price_per_mile_2.0\"].std())\n",
    "Brooklyn['price_per_mile_2.0'].plot(kind='hist', title=\"Price per Mile 2.0 ditribution in Brooklyn\")"
   ]
  },
  {
   "cell_type": "markdown",
   "metadata": {},
   "source": [
    "Now we can see that the standard deviations of all boroughs decreased a lot. The EWR remains high with respect to other boroughs, but decreased from 3.46 to 0.035.\n",
    "This means that as we have mentioned before, the price per mile tends to converge an almost unique value per mile, but, we still have outsiders, which we have not discarded that are due to errors in the data and also we can notice that Manhattan and EWR means are still higher than others. \n",
    "\n",
    "Following, it exposed, the data corresponding to the t-test among all the possible pairs of distribution of different boroughs."
   ]
  },
  {
   "cell_type": "code",
   "execution_count": 55,
   "metadata": {},
   "outputs": [],
   "source": [
    "# Select only the variable of interest for each borough\n",
    "Manhattan = Manhattan['price_per_mile_2.0']\n",
    "Bronx = Bronx['price_per_mile_2.0']\n",
    "Brooklyn = Brooklyn['price_per_mile_2.0']\n",
    "EWR = EWR['price_per_mile_2.0']\n",
    "Queens = Queens['price_per_mile_2.0']\n",
    "Staten_Island = Staten_Island['price_per_mile_2.0']"
   ]
  },
  {
   "cell_type": "markdown",
   "metadata": {},
   "source": [
    "Taking into account that we are still under the same assumptions, described above for the variable price_per_mile, we have statistically significant differences, on the averages, among zones, for every case, except Mahattan & EWR. Which would mean that taxis are more expensive for those who live in Manhattan and cheaper for those who live in Queens. \n",
    "\n",
    "Comparing price per mile and price per mile 2.0, we could say that in this case the variables are more concentrated, which makes sense, since it would be expected that at least, per zone, the price per mile is the same.\n",
    "\n",
    "The differences between zones, on the other hand, could be due to:\n",
    "- The effect of the initial charge affecting differently short and long trips\n",
    "- The cost of the tolls\n",
    "- The 50 cent State Surcharge\n",
    "- Demand for taxis of the time of day, by boroughs\n",
    "- Other external variables that we are not able to identify"
   ]
  },
  {
   "cell_type": "markdown",
   "metadata": {},
   "source": [
    "#### CRQ2. Visualize Taxis movements! NYC is divided in many Taxis zones. For each yellow cab trip we know the zone the Taxi pick up and drop off the users. Let's visualize, on a chropleth map, the number of trips that starts in each zone. Than, do another map to count the races that end up in the single zone. Comment your discoveries. To perform this task we use the library folium. You find some examples of chorophlet maps here and here. The Geojson we use to trace the zones is taxi_zones.json in the Homework's repository."
   ]
  },
  {
   "cell_type": "code",
   "execution_count": null,
   "metadata": {},
   "outputs": [],
   "source": []
  }
 ],
 "metadata": {
  "kernelspec": {
   "display_name": "Python 3",
   "language": "python",
   "name": "python3"
  },
  "language_info": {
   "codemirror_mode": {
    "name": "ipython",
    "version": 3
   },
   "file_extension": ".py",
   "mimetype": "text/x-python",
   "name": "python",
   "nbconvert_exporter": "python",
   "pygments_lexer": "ipython3",
   "version": "3.6.5"
  }
 },
 "nbformat": 4,
 "nbformat_minor": 2
}
